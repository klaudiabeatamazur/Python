{
 "cells": [
  {
   "cell_type": "markdown",
   "id": "dda51b4c",
   "metadata": {},
   "source": [
    "#01. Importing libraries"
   ]
  },
  {
   "cell_type": "code",
   "execution_count": 1,
   "id": "3be4e34d",
   "metadata": {},
   "outputs": [],
   "source": [
    "# Import libraries\n",
    "import pandas as pd\n",
    "import numpy as np\n",
    "import os"
   ]
  },
  {
   "cell_type": "markdown",
   "id": "85d8911e",
   "metadata": {},
   "source": [
    "#02. Data types"
   ]
  },
  {
   "cell_type": "code",
   "execution_count": 3,
   "id": "db809343",
   "metadata": {},
   "outputs": [],
   "source": [
    "x=50"
   ]
  },
  {
   "cell_type": "code",
   "execution_count": 6,
   "id": "fa854218",
   "metadata": {},
   "outputs": [],
   "source": [
    "y=20"
   ]
  },
  {
   "cell_type": "code",
   "execution_count": 5,
   "id": "2e836971",
   "metadata": {},
   "outputs": [],
   "source": [
    "z=10"
   ]
  },
  {
   "cell_type": "code",
   "execution_count": 4,
   "id": "d0001816",
   "metadata": {},
   "outputs": [
    {
     "data": {
      "text/plain": [
       "100"
      ]
     },
     "execution_count": 4,
     "metadata": {},
     "output_type": "execute_result"
    }
   ],
   "source": [
    "x*2"
   ]
  },
  {
   "cell_type": "code",
   "execution_count": 7,
   "id": "86cee9b3",
   "metadata": {},
   "outputs": [
    {
     "data": {
      "text/plain": [
       "100"
      ]
     },
     "execution_count": 7,
     "metadata": {},
     "output_type": "execute_result"
    }
   ],
   "source": [
    "x+y+y+z"
   ]
  },
  {
   "cell_type": "code",
   "execution_count": 8,
   "id": "d7a2ae7d",
   "metadata": {},
   "outputs": [
    {
     "data": {
      "text/plain": [
       "100"
      ]
     },
     "execution_count": 8,
     "metadata": {},
     "output_type": "execute_result"
    }
   ],
   "source": [
    "(x*3)-(y+y)-z"
   ]
  },
  {
   "cell_type": "code",
   "execution_count": 9,
   "id": "5e835f3f",
   "metadata": {},
   "outputs": [],
   "source": [
    "a=1.5"
   ]
  },
  {
   "cell_type": "code",
   "execution_count": 10,
   "id": "e4b84102",
   "metadata": {},
   "outputs": [],
   "source": [
    "b=6.5"
   ]
  },
  {
   "cell_type": "code",
   "execution_count": 11,
   "id": "7dfbbd07",
   "metadata": {},
   "outputs": [
    {
     "data": {
      "text/plain": [
       "0.23076923076923078"
      ]
     },
     "execution_count": 11,
     "metadata": {},
     "output_type": "execute_result"
    }
   ],
   "source": [
    "a/b"
   ]
  },
  {
   "cell_type": "code",
   "execution_count": 15,
   "id": "d5f2abcf",
   "metadata": {},
   "outputs": [
    {
     "data": {
      "text/plain": [
       "4.333333333333333"
      ]
     },
     "execution_count": 15,
     "metadata": {},
     "output_type": "execute_result"
    }
   ],
   "source": [
    "b/a"
   ]
  },
  {
   "cell_type": "code",
   "execution_count": 12,
   "id": "9adf6d04",
   "metadata": {},
   "outputs": [],
   "source": [
    "c=('macro')"
   ]
  },
  {
   "cell_type": "code",
   "execution_count": 13,
   "id": "a4116946",
   "metadata": {},
   "outputs": [],
   "source": [
    "d=('biosis')"
   ]
  },
  {
   "cell_type": "code",
   "execution_count": 14,
   "id": "eec6cde7",
   "metadata": {},
   "outputs": [
    {
     "data": {
      "text/plain": [
       "'macrobiosis'"
      ]
     },
     "execution_count": 14,
     "metadata": {},
     "output_type": "execute_result"
    }
   ],
   "source": [
    "c+d"
   ]
  },
  {
   "cell_type": "code",
   "execution_count": 23,
   "id": "8fe2aacc",
   "metadata": {},
   "outputs": [],
   "source": [
    "e=('We')"
   ]
  },
  {
   "cell_type": "code",
   "execution_count": 17,
   "id": "9be114d3",
   "metadata": {},
   "outputs": [],
   "source": [
    "f=('dream')"
   ]
  },
  {
   "cell_type": "code",
   "execution_count": 18,
   "id": "a20f2a72",
   "metadata": {},
   "outputs": [],
   "source": [
    "g=('of')"
   ]
  },
  {
   "cell_type": "code",
   "execution_count": 19,
   "id": "c9ac7413",
   "metadata": {},
   "outputs": [],
   "source": [
    "h=(' ')"
   ]
  },
  {
   "cell_type": "code",
   "execution_count": 21,
   "id": "458d9cf4",
   "metadata": {},
   "outputs": [],
   "source": [
    "i=('.')"
   ]
  },
  {
   "cell_type": "code",
   "execution_count": 24,
   "id": "d4b9c4e6",
   "metadata": {},
   "outputs": [
    {
     "data": {
      "text/plain": [
       "'We dream of macrobiosis.'"
      ]
     },
     "execution_count": 24,
     "metadata": {},
     "output_type": "execute_result"
    }
   ],
   "source": [
    "e+h+f+h+g+h+c+d+i"
   ]
  },
  {
   "cell_type": "code",
   "execution_count": 30,
   "id": "1c29b3bc",
   "metadata": {},
   "outputs": [],
   "source": [
    "j=('Anna')"
   ]
  },
  {
   "cell_type": "code",
   "execution_count": 35,
   "id": "b740ef1d",
   "metadata": {},
   "outputs": [],
   "source": [
    "k=('s')"
   ]
  },
  {
   "cell_type": "code",
   "execution_count": 33,
   "id": "67ea0f7c",
   "metadata": {},
   "outputs": [],
   "source": [
    "l=('success')"
   ]
  },
  {
   "cell_type": "code",
   "execution_count": 37,
   "id": "523fda65",
   "metadata": {},
   "outputs": [
    {
     "data": {
      "text/plain": [
       "'Anna dreams of success.'"
      ]
     },
     "execution_count": 37,
     "metadata": {},
     "output_type": "execute_result"
    }
   ],
   "source": [
    "j+h+f+k+h+g+h+l+i"
   ]
  }
 ],
 "metadata": {
  "kernelspec": {
   "display_name": "Python 3 (ipykernel)",
   "language": "python",
   "name": "python3"
  },
  "language_info": {
   "codemirror_mode": {
    "name": "ipython",
    "version": 3
   },
   "file_extension": ".py",
   "mimetype": "text/x-python",
   "name": "python",
   "nbconvert_exporter": "python",
   "pygments_lexer": "ipython3",
   "version": "3.10.9"
  }
 },
 "nbformat": 4,
 "nbformat_minor": 5
}
