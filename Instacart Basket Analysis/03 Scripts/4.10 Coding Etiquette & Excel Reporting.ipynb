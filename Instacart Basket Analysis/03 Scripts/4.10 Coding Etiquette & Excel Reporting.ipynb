{
 "cells": [
  {
   "cell_type": "markdown",
   "id": "a87a4d9e",
   "metadata": {},
   "source": [
    "# 4.10 Coding Etiquette & Excel Reporting"
   ]
  },
  {
   "cell_type": "markdown",
   "id": "f154db06",
   "metadata": {},
   "source": [
    "## script's table of contents: #"
   ]
  },
  {
   "cell_type": "markdown",
   "id": "036ba6bb",
   "metadata": {},
   "source": [
    "### importing data (step 1)\n",
    "### security implications (step 2)\n",
    "### exclusion flag for low-activity customers (step 4)\n",
    "### customer profiling (step 5 and 6)\n",
    "### max, mean, and min variables on a customer-profile (step 7)\n",
    "### comparing your customer profiles with regions and departments (step 8)\n",
    "\n"
   ]
  },
  {
   "cell_type": "markdown",
   "id": "6c9b99ed",
   "metadata": {},
   "source": [
    "# importing data (step 1)"
   ]
  },
  {
   "cell_type": "code",
   "execution_count": 1,
   "id": "547a8c6f",
   "metadata": {},
   "outputs": [],
   "source": [
    "#Importing libraries\n",
    "import pandas as pd\n",
    "import numpy as np\n",
    "import os\n",
    "import matplotlib.pyplot as plt\n",
    "import seaborn as sns\n",
    "import scipy"
   ]
  },
  {
   "cell_type": "code",
   "execution_count": 2,
   "id": "6b9e24eb",
   "metadata": {},
   "outputs": [],
   "source": [
    "# Importing tables\n",
    "path = r'C:\\Users\\Lenovo\\Instacart Basket Analysis'"
   ]
  },
  {
   "cell_type": "code",
   "execution_count": 3,
   "id": "dfedc54a",
   "metadata": {},
   "outputs": [],
   "source": [
    "df = pd.read_pickle(os.path.join(path, '02 Data', 'Prepared Data', 'cust_ord_prod.pkl'),)"
   ]
  },
  {
   "cell_type": "code",
   "execution_count": 4,
   "id": "bcb5940c",
   "metadata": {},
   "outputs": [
    {
     "data": {
      "text/html": [
       "<div>\n",
       "<style scoped>\n",
       "    .dataframe tbody tr th:only-of-type {\n",
       "        vertical-align: middle;\n",
       "    }\n",
       "\n",
       "    .dataframe tbody tr th {\n",
       "        vertical-align: top;\n",
       "    }\n",
       "\n",
       "    .dataframe thead th {\n",
       "        text-align: right;\n",
       "    }\n",
       "</style>\n",
       "<table border=\"1\" class=\"dataframe\">\n",
       "  <thead>\n",
       "    <tr style=\"text-align: right;\">\n",
       "      <th></th>\n",
       "      <th>order_id</th>\n",
       "      <th>user_id</th>\n",
       "      <th>eval_set</th>\n",
       "      <th>order_number</th>\n",
       "      <th>order_day_of_week</th>\n",
       "      <th>order_hour_of_day</th>\n",
       "      <th>days_since_prior_order</th>\n",
       "      <th>product_id</th>\n",
       "      <th>add_to_cart_order</th>\n",
       "      <th>reordered</th>\n",
       "      <th>...</th>\n",
       "      <th>mean_days</th>\n",
       "      <th>frequency_flag</th>\n",
       "      <th>last_name</th>\n",
       "      <th>Gender</th>\n",
       "      <th>state</th>\n",
       "      <th>Age</th>\n",
       "      <th>date_joined</th>\n",
       "      <th>Dependants</th>\n",
       "      <th>family_status</th>\n",
       "      <th>income</th>\n",
       "    </tr>\n",
       "  </thead>\n",
       "  <tbody>\n",
       "    <tr>\n",
       "      <th>0</th>\n",
       "      <td>2539329</td>\n",
       "      <td>1</td>\n",
       "      <td>prior</td>\n",
       "      <td>1</td>\n",
       "      <td>2</td>\n",
       "      <td>8</td>\n",
       "      <td>NaN</td>\n",
       "      <td>196</td>\n",
       "      <td>1</td>\n",
       "      <td>0</td>\n",
       "      <td>...</td>\n",
       "      <td>20.5</td>\n",
       "      <td>Non-frequent customer</td>\n",
       "      <td>Nguyen</td>\n",
       "      <td>Female</td>\n",
       "      <td>Alabama</td>\n",
       "      <td>31</td>\n",
       "      <td>2/17/2019</td>\n",
       "      <td>3</td>\n",
       "      <td>married</td>\n",
       "      <td>40423</td>\n",
       "    </tr>\n",
       "    <tr>\n",
       "      <th>1</th>\n",
       "      <td>2398795</td>\n",
       "      <td>1</td>\n",
       "      <td>prior</td>\n",
       "      <td>2</td>\n",
       "      <td>3</td>\n",
       "      <td>7</td>\n",
       "      <td>15.0</td>\n",
       "      <td>196</td>\n",
       "      <td>1</td>\n",
       "      <td>1</td>\n",
       "      <td>...</td>\n",
       "      <td>20.5</td>\n",
       "      <td>Non-frequent customer</td>\n",
       "      <td>Nguyen</td>\n",
       "      <td>Female</td>\n",
       "      <td>Alabama</td>\n",
       "      <td>31</td>\n",
       "      <td>2/17/2019</td>\n",
       "      <td>3</td>\n",
       "      <td>married</td>\n",
       "      <td>40423</td>\n",
       "    </tr>\n",
       "    <tr>\n",
       "      <th>2</th>\n",
       "      <td>473747</td>\n",
       "      <td>1</td>\n",
       "      <td>prior</td>\n",
       "      <td>3</td>\n",
       "      <td>3</td>\n",
       "      <td>12</td>\n",
       "      <td>21.0</td>\n",
       "      <td>196</td>\n",
       "      <td>1</td>\n",
       "      <td>1</td>\n",
       "      <td>...</td>\n",
       "      <td>20.5</td>\n",
       "      <td>Non-frequent customer</td>\n",
       "      <td>Nguyen</td>\n",
       "      <td>Female</td>\n",
       "      <td>Alabama</td>\n",
       "      <td>31</td>\n",
       "      <td>2/17/2019</td>\n",
       "      <td>3</td>\n",
       "      <td>married</td>\n",
       "      <td>40423</td>\n",
       "    </tr>\n",
       "    <tr>\n",
       "      <th>3</th>\n",
       "      <td>2254736</td>\n",
       "      <td>1</td>\n",
       "      <td>prior</td>\n",
       "      <td>4</td>\n",
       "      <td>4</td>\n",
       "      <td>7</td>\n",
       "      <td>29.0</td>\n",
       "      <td>196</td>\n",
       "      <td>1</td>\n",
       "      <td>1</td>\n",
       "      <td>...</td>\n",
       "      <td>20.5</td>\n",
       "      <td>Non-frequent customer</td>\n",
       "      <td>Nguyen</td>\n",
       "      <td>Female</td>\n",
       "      <td>Alabama</td>\n",
       "      <td>31</td>\n",
       "      <td>2/17/2019</td>\n",
       "      <td>3</td>\n",
       "      <td>married</td>\n",
       "      <td>40423</td>\n",
       "    </tr>\n",
       "    <tr>\n",
       "      <th>4</th>\n",
       "      <td>431534</td>\n",
       "      <td>1</td>\n",
       "      <td>prior</td>\n",
       "      <td>5</td>\n",
       "      <td>4</td>\n",
       "      <td>15</td>\n",
       "      <td>28.0</td>\n",
       "      <td>196</td>\n",
       "      <td>1</td>\n",
       "      <td>1</td>\n",
       "      <td>...</td>\n",
       "      <td>20.5</td>\n",
       "      <td>Non-frequent customer</td>\n",
       "      <td>Nguyen</td>\n",
       "      <td>Female</td>\n",
       "      <td>Alabama</td>\n",
       "      <td>31</td>\n",
       "      <td>2/17/2019</td>\n",
       "      <td>3</td>\n",
       "      <td>married</td>\n",
       "      <td>40423</td>\n",
       "    </tr>\n",
       "  </tbody>\n",
       "</table>\n",
       "<p>5 rows × 29 columns</p>\n",
       "</div>"
      ],
      "text/plain": [
       "   order_id user_id eval_set  order_number  order_day_of_week  \\\n",
       "0   2539329       1    prior             1                  2   \n",
       "1   2398795       1    prior             2                  3   \n",
       "2    473747       1    prior             3                  3   \n",
       "3   2254736       1    prior             4                  4   \n",
       "4    431534       1    prior             5                  4   \n",
       "\n",
       "   order_hour_of_day  days_since_prior_order  product_id  add_to_cart_order  \\\n",
       "0                  8                     NaN         196                  1   \n",
       "1                  7                    15.0         196                  1   \n",
       "2                 12                    21.0         196                  1   \n",
       "3                  7                    29.0         196                  1   \n",
       "4                 15                    28.0         196                  1   \n",
       "\n",
       "   reordered  ... mean_days         frequency_flag  last_name  Gender  \\\n",
       "0          0  ...      20.5  Non-frequent customer     Nguyen  Female   \n",
       "1          1  ...      20.5  Non-frequent customer     Nguyen  Female   \n",
       "2          1  ...      20.5  Non-frequent customer     Nguyen  Female   \n",
       "3          1  ...      20.5  Non-frequent customer     Nguyen  Female   \n",
       "4          1  ...      20.5  Non-frequent customer     Nguyen  Female   \n",
       "\n",
       "     state  Age date_joined  Dependants family_status  income  \n",
       "0  Alabama   31   2/17/2019           3       married   40423  \n",
       "1  Alabama   31   2/17/2019           3       married   40423  \n",
       "2  Alabama   31   2/17/2019           3       married   40423  \n",
       "3  Alabama   31   2/17/2019           3       married   40423  \n",
       "4  Alabama   31   2/17/2019           3       married   40423  \n",
       "\n",
       "[5 rows x 29 columns]"
      ]
     },
     "execution_count": 4,
     "metadata": {},
     "output_type": "execute_result"
    }
   ],
   "source": [
    "# checking data\n",
    "df.head()"
   ]
  },
  {
   "cell_type": "code",
   "execution_count": 5,
   "id": "fbad364b",
   "metadata": {},
   "outputs": [
    {
     "data": {
      "text/plain": [
       "(32406041, 29)"
      ]
     },
     "execution_count": 5,
     "metadata": {},
     "output_type": "execute_result"
    }
   ],
   "source": [
    "df.shape"
   ]
  },
  {
   "cell_type": "markdown",
   "id": "1de6b206",
   "metadata": {},
   "source": [
    "# security implications (step 2)"
   ]
  },
  {
   "cell_type": "markdown",
   "id": "9a3cebdb",
   "metadata": {},
   "source": [
    "Custoner names are PII. First name were renoved previously. Last name shall also be dropped."
   ]
  },
  {
   "cell_type": "code",
   "execution_count": 6,
   "id": "46d9b407",
   "metadata": {},
   "outputs": [],
   "source": [
    "# dropping 'last name' column\n",
    "df= df.drop(columns = ['last_name'])  "
   ]
  },
  {
   "cell_type": "code",
   "execution_count": 7,
   "id": "f84b67bc",
   "metadata": {},
   "outputs": [
    {
     "data": {
      "text/plain": [
       "Index(['order_id', 'user_id', 'eval_set', 'order_number', 'order_day_of_week',\n",
       "       'order_hour_of_day', 'days_since_prior_order', 'product_id',\n",
       "       'add_to_cart_order', 'reordered', 'product_name', 'aisle_id',\n",
       "       'department_id', 'prices', '_merge', 'max_order', 'loyalty_flag',\n",
       "       'mean_price', 'spending_flag', 'mean_days', 'frequency_flag', 'Gender',\n",
       "       'state', 'Age', 'date_joined', 'Dependants', 'family_status', 'income'],\n",
       "      dtype='object')"
      ]
     },
     "execution_count": 7,
     "metadata": {},
     "output_type": "execute_result"
    }
   ],
   "source": [
    "# checking results\n",
    "df.columns\n"
   ]
  },
  {
   "cell_type": "markdown",
   "id": "2acd2356",
   "metadata": {},
   "source": [
    "# regional segmentation (step 3)"
   ]
  },
  {
   "cell_type": "markdown",
   "id": "0fa19135",
   "metadata": {},
   "source": [
    "creating region column (step 3.1)"
   ]
  },
  {
   "cell_type": "code",
   "execution_count": 8,
   "id": "d7c08034",
   "metadata": {},
   "outputs": [
    {
     "data": {
      "text/plain": [
       "Pennsylvania            667094\n",
       "California              659828\n",
       "Rhode Island            656935\n",
       "Georgia                 656414\n",
       "New Mexico              654499\n",
       "Arizona                 654005\n",
       "North Carolina          651928\n",
       "Oklahoma                651760\n",
       "Alaska                  648519\n",
       "Minnesota               647851\n",
       "Massachusetts           646378\n",
       "Wyoming                 644283\n",
       "Virginia                641432\n",
       "Missouri                640761\n",
       "Texas                   640432\n",
       "Colorado                639293\n",
       "Maine                   638593\n",
       "North Dakota            638507\n",
       "Alabama                 638041\n",
       "Kansas                  637570\n",
       "Louisiana               637506\n",
       "Delaware                637049\n",
       "South Carolina          636768\n",
       "Oregon                  636442\n",
       "Nevada                  636163\n",
       "Arkansas                636158\n",
       "New York                636003\n",
       "Montana                 635280\n",
       "South Dakota            633786\n",
       "Illinois                633059\n",
       "Hawaii                  632922\n",
       "Washington              632877\n",
       "Mississippi             632697\n",
       "Kentucky                632509\n",
       "Michigan                630956\n",
       "Florida                 629039\n",
       "Ohio                    628339\n",
       "Wisconsin               628137\n",
       "New Jersey              627707\n",
       "Indiana                 627290\n",
       "Maryland                626603\n",
       "Nebraska                625828\n",
       "Iowa                    625501\n",
       "Connecticut             623055\n",
       "Tennessee               617906\n",
       "New Hampshire           615424\n",
       "District of Columbia    613714\n",
       "West Virginia           612344\n",
       "Utah                    611965\n",
       "Vermont                 611750\n",
       "Idaho                   607141\n",
       "Name: state, dtype: int64"
      ]
     },
     "execution_count": 8,
     "metadata": {},
     "output_type": "execute_result"
    }
   ],
   "source": [
    "# checking list of states\n",
    "df['state'].value_counts(dropna = False)"
   ]
  },
  {
   "cell_type": "code",
   "execution_count": 9,
   "id": "f0fafcbc",
   "metadata": {},
   "outputs": [],
   "source": [
    "# creating region list\n",
    "\n",
    "region = []"
   ]
  },
  {
   "cell_type": "code",
   "execution_count": 10,
   "id": "58d2363d",
   "metadata": {},
   "outputs": [],
   "source": [
    "for value in df['state']:\n",
    "    if value in ['Maine','New Hampshire', 'Vermont', 'Massachusetts','Rhode Island','Connecticut','New York','Pennsylvania','New Jersey']:\n",
    "        region.append('Northeast')\n",
    "    elif value in ['Wisconsin','Michigan','Illinois','Indiana','Ohio','North Dakota','South Dakota','Nebraska','Kansas','Minnesota','Iowa','Missouri']:\n",
    "        region.append('Midwest')\n",
    "    elif value in ['Delaware','Maryland','District of Columbia','Virginia','West Virginia','North Carolina','South Carolina','Georgia','Florida','Kentucky','Tennessee','Mississippi','Alabama','Oklahoma','Texas','Arkansas','Louisiana']:\n",
    "        region.append('South')\n",
    "    else:\n",
    "        region.append('West')"
   ]
  },
  {
   "cell_type": "code",
   "execution_count": 11,
   "id": "7318c25e",
   "metadata": {},
   "outputs": [
    {
     "data": {
      "text/plain": [
       "['South',\n",
       " 'South',\n",
       " 'South',\n",
       " 'South',\n",
       " 'South',\n",
       " 'South',\n",
       " 'South',\n",
       " 'South',\n",
       " 'South',\n",
       " 'South',\n",
       " 'South',\n",
       " 'South',\n",
       " 'South',\n",
       " 'South',\n",
       " 'South',\n",
       " 'South',\n",
       " 'South',\n",
       " 'South',\n",
       " 'South',\n",
       " 'South',\n",
       " 'South',\n",
       " 'South',\n",
       " 'South',\n",
       " 'South',\n",
       " 'South',\n",
       " 'South',\n",
       " 'South',\n",
       " 'South',\n",
       " 'South',\n",
       " 'South',\n",
       " 'South',\n",
       " 'South',\n",
       " 'South',\n",
       " 'South',\n",
       " 'South',\n",
       " 'South',\n",
       " 'South',\n",
       " 'South',\n",
       " 'South',\n",
       " 'South',\n",
       " 'South',\n",
       " 'South',\n",
       " 'South',\n",
       " 'South',\n",
       " 'South',\n",
       " 'South',\n",
       " 'South',\n",
       " 'South',\n",
       " 'South',\n",
       " 'South',\n",
       " 'South',\n",
       " 'South',\n",
       " 'South',\n",
       " 'South',\n",
       " 'South',\n",
       " 'South',\n",
       " 'South',\n",
       " 'South',\n",
       " 'South',\n",
       " 'Midwest',\n",
       " 'Midwest',\n",
       " 'Midwest',\n",
       " 'Midwest',\n",
       " 'Midwest',\n",
       " 'Midwest',\n",
       " 'Midwest',\n",
       " 'Midwest',\n",
       " 'Midwest',\n",
       " 'Midwest',\n",
       " 'Midwest',\n",
       " 'Midwest',\n",
       " 'Midwest',\n",
       " 'Midwest',\n",
       " 'Midwest',\n",
       " 'Midwest',\n",
       " 'Midwest',\n",
       " 'Midwest',\n",
       " 'Midwest',\n",
       " 'Midwest',\n",
       " 'Midwest',\n",
       " 'Midwest',\n",
       " 'Midwest',\n",
       " 'Midwest',\n",
       " 'Midwest',\n",
       " 'Midwest',\n",
       " 'Midwest',\n",
       " 'Midwest',\n",
       " 'Midwest',\n",
       " 'Midwest',\n",
       " 'Midwest',\n",
       " 'Midwest',\n",
       " 'Midwest',\n",
       " 'Midwest',\n",
       " 'Midwest',\n",
       " 'Midwest',\n",
       " 'Midwest',\n",
       " 'Midwest',\n",
       " 'Midwest',\n",
       " 'Midwest',\n",
       " 'Midwest',\n",
       " 'Midwest',\n",
       " 'Midwest',\n",
       " 'Midwest',\n",
       " 'Midwest',\n",
       " 'Midwest',\n",
       " 'Midwest',\n",
       " 'Midwest',\n",
       " 'Midwest',\n",
       " 'Midwest',\n",
       " 'Midwest',\n",
       " 'Midwest',\n",
       " 'Midwest',\n",
       " 'Midwest',\n",
       " 'Midwest',\n",
       " 'Midwest',\n",
       " 'Midwest',\n",
       " 'Midwest',\n",
       " 'Midwest',\n",
       " 'Midwest',\n",
       " 'Midwest',\n",
       " 'Midwest',\n",
       " 'Midwest',\n",
       " 'Midwest',\n",
       " 'Midwest',\n",
       " 'Midwest',\n",
       " 'Midwest',\n",
       " 'Midwest',\n",
       " 'Midwest',\n",
       " 'Midwest',\n",
       " 'Midwest',\n",
       " 'Midwest',\n",
       " 'South',\n",
       " 'South',\n",
       " 'South',\n",
       " 'South',\n",
       " 'South',\n",
       " 'South',\n",
       " 'South',\n",
       " 'South',\n",
       " 'South',\n",
       " 'South',\n",
       " 'South',\n",
       " 'South',\n",
       " 'South',\n",
       " 'South',\n",
       " 'South',\n",
       " 'South',\n",
       " 'South',\n",
       " 'South',\n",
       " 'South',\n",
       " 'South',\n",
       " 'South',\n",
       " 'South',\n",
       " 'South',\n",
       " 'South',\n",
       " 'South',\n",
       " 'South',\n",
       " 'South',\n",
       " 'South',\n",
       " 'South',\n",
       " 'South',\n",
       " 'South',\n",
       " 'South',\n",
       " 'South',\n",
       " 'South',\n",
       " 'South',\n",
       " 'South',\n",
       " 'South',\n",
       " 'South',\n",
       " 'South',\n",
       " 'South',\n",
       " 'South',\n",
       " 'South',\n",
       " 'South',\n",
       " 'South',\n",
       " 'South',\n",
       " 'South',\n",
       " 'South',\n",
       " 'South',\n",
       " 'South',\n",
       " 'South',\n",
       " 'South',\n",
       " 'South',\n",
       " 'South',\n",
       " 'South',\n",
       " 'South',\n",
       " 'South',\n",
       " 'South',\n",
       " 'South',\n",
       " 'South',\n",
       " 'South',\n",
       " 'South',\n",
       " 'South',\n",
       " 'South',\n",
       " 'South',\n",
       " 'South',\n",
       " 'South',\n",
       " 'South',\n",
       " 'South',\n",
       " 'South',\n",
       " 'South',\n",
       " 'South',\n",
       " 'South',\n",
       " 'South',\n",
       " 'South',\n",
       " 'South',\n",
       " 'South',\n",
       " 'South',\n",
       " 'South',\n",
       " 'South',\n",
       " 'South',\n",
       " 'South',\n",
       " 'South',\n",
       " 'South',\n",
       " 'South',\n",
       " 'South',\n",
       " 'South',\n",
       " 'South',\n",
       " 'South',\n",
       " 'South',\n",
       " 'South',\n",
       " 'South',\n",
       " 'South',\n",
       " 'South',\n",
       " 'South',\n",
       " 'South',\n",
       " 'South',\n",
       " 'South',\n",
       " 'South',\n",
       " 'South',\n",
       " 'South',\n",
       " 'South',\n",
       " 'South',\n",
       " 'South',\n",
       " 'South',\n",
       " 'South',\n",
       " 'South',\n",
       " 'South',\n",
       " 'South',\n",
       " 'South',\n",
       " 'South',\n",
       " 'South',\n",
       " 'South',\n",
       " 'South',\n",
       " 'South',\n",
       " 'South',\n",
       " 'South',\n",
       " 'South',\n",
       " 'South',\n",
       " 'South',\n",
       " 'South',\n",
       " 'South',\n",
       " 'South',\n",
       " 'South',\n",
       " 'South',\n",
       " 'South',\n",
       " 'South',\n",
       " 'South',\n",
       " 'South',\n",
       " 'South',\n",
       " 'South',\n",
       " 'South',\n",
       " 'South',\n",
       " 'South',\n",
       " 'South',\n",
       " 'South',\n",
       " 'South',\n",
       " 'South',\n",
       " 'South',\n",
       " 'South',\n",
       " 'South',\n",
       " 'South',\n",
       " 'South',\n",
       " 'South',\n",
       " 'South',\n",
       " 'South',\n",
       " 'South',\n",
       " 'South',\n",
       " 'South',\n",
       " 'South',\n",
       " 'South',\n",
       " 'South',\n",
       " 'South',\n",
       " 'South',\n",
       " 'South',\n",
       " 'South',\n",
       " 'South',\n",
       " 'South',\n",
       " 'South',\n",
       " 'South',\n",
       " 'South',\n",
       " 'South',\n",
       " 'South',\n",
       " 'South',\n",
       " 'South',\n",
       " 'South',\n",
       " 'South',\n",
       " 'South',\n",
       " 'South',\n",
       " 'South',\n",
       " 'South',\n",
       " 'South',\n",
       " 'South',\n",
       " 'South',\n",
       " 'South',\n",
       " 'South',\n",
       " 'South',\n",
       " 'South',\n",
       " 'South',\n",
       " 'South',\n",
       " 'South',\n",
       " 'South',\n",
       " 'South',\n",
       " 'South',\n",
       " 'South',\n",
       " 'South',\n",
       " 'South',\n",
       " 'South',\n",
       " 'South',\n",
       " 'South',\n",
       " 'South',\n",
       " 'South',\n",
       " 'South',\n",
       " 'South',\n",
       " 'South',\n",
       " 'South',\n",
       " 'South',\n",
       " 'South',\n",
       " 'South',\n",
       " 'South',\n",
       " 'South',\n",
       " 'South',\n",
       " 'South',\n",
       " 'South',\n",
       " 'South',\n",
       " 'West',\n",
       " 'West',\n",
       " 'West',\n",
       " 'West',\n",
       " 'West',\n",
       " 'West',\n",
       " 'West',\n",
       " 'West',\n",
       " 'West',\n",
       " 'West',\n",
       " 'West',\n",
       " 'West',\n",
       " 'West',\n",
       " 'West',\n",
       " 'West',\n",
       " 'West',\n",
       " 'West',\n",
       " 'West',\n",
       " 'West',\n",
       " 'West',\n",
       " 'West',\n",
       " 'West',\n",
       " 'West',\n",
       " 'West',\n",
       " 'West',\n",
       " 'West',\n",
       " 'West',\n",
       " 'West',\n",
       " 'West',\n",
       " 'West',\n",
       " 'West',\n",
       " 'West',\n",
       " 'West',\n",
       " 'West',\n",
       " 'West',\n",
       " 'West',\n",
       " 'West',\n",
       " 'West',\n",
       " 'West',\n",
       " 'West',\n",
       " 'West',\n",
       " 'West',\n",
       " 'West',\n",
       " 'West',\n",
       " 'West',\n",
       " 'West',\n",
       " 'West',\n",
       " 'West',\n",
       " 'West',\n",
       " 'West',\n",
       " 'West',\n",
       " 'West',\n",
       " 'West',\n",
       " 'West',\n",
       " 'West',\n",
       " 'West',\n",
       " 'West',\n",
       " 'West',\n",
       " 'West',\n",
       " 'West',\n",
       " 'West',\n",
       " 'West',\n",
       " 'West',\n",
       " 'West',\n",
       " 'West',\n",
       " 'West',\n",
       " 'West',\n",
       " 'West',\n",
       " 'West',\n",
       " 'West',\n",
       " 'West',\n",
       " 'West',\n",
       " 'West',\n",
       " 'West',\n",
       " 'West',\n",
       " 'West',\n",
       " 'West',\n",
       " 'West',\n",
       " 'West',\n",
       " 'West',\n",
       " 'West',\n",
       " 'West',\n",
       " 'West',\n",
       " 'West',\n",
       " 'West',\n",
       " 'West',\n",
       " 'West',\n",
       " 'West',\n",
       " 'West',\n",
       " 'West',\n",
       " 'West',\n",
       " 'West',\n",
       " 'West',\n",
       " 'West',\n",
       " 'West',\n",
       " 'West',\n",
       " 'West',\n",
       " 'West',\n",
       " 'West',\n",
       " 'West',\n",
       " 'West',\n",
       " 'West',\n",
       " 'West',\n",
       " 'West',\n",
       " 'West',\n",
       " 'West',\n",
       " 'West',\n",
       " 'West',\n",
       " 'West',\n",
       " 'West',\n",
       " 'West',\n",
       " 'West',\n",
       " 'West',\n",
       " 'West',\n",
       " 'West',\n",
       " 'West',\n",
       " 'West',\n",
       " 'West',\n",
       " 'West',\n",
       " 'West',\n",
       " 'West',\n",
       " 'West',\n",
       " 'West',\n",
       " 'West',\n",
       " 'West',\n",
       " 'West',\n",
       " 'West',\n",
       " 'West',\n",
       " 'West',\n",
       " 'West',\n",
       " 'West',\n",
       " 'West',\n",
       " 'West',\n",
       " 'West',\n",
       " 'West',\n",
       " 'West',\n",
       " 'West',\n",
       " 'West',\n",
       " 'West',\n",
       " 'West',\n",
       " 'West',\n",
       " 'West',\n",
       " 'West',\n",
       " 'West',\n",
       " 'West',\n",
       " 'West',\n",
       " 'West',\n",
       " 'West',\n",
       " 'West',\n",
       " 'West',\n",
       " 'West',\n",
       " 'West',\n",
       " 'West',\n",
       " 'West',\n",
       " 'West',\n",
       " 'West',\n",
       " 'West',\n",
       " 'West',\n",
       " 'West',\n",
       " 'West',\n",
       " 'West',\n",
       " 'West',\n",
       " 'West',\n",
       " 'West',\n",
       " 'West',\n",
       " 'West',\n",
       " 'West',\n",
       " 'West',\n",
       " 'West',\n",
       " 'West',\n",
       " 'West',\n",
       " 'West',\n",
       " 'West',\n",
       " 'West',\n",
       " 'West',\n",
       " 'West',\n",
       " 'West',\n",
       " 'West',\n",
       " 'West',\n",
       " 'West',\n",
       " 'West',\n",
       " 'West',\n",
       " 'West',\n",
       " 'West',\n",
       " 'West',\n",
       " 'West',\n",
       " 'West',\n",
       " 'West',\n",
       " 'West',\n",
       " 'West',\n",
       " 'West',\n",
       " 'West',\n",
       " 'West',\n",
       " 'West',\n",
       " 'West',\n",
       " 'West',\n",
       " 'West',\n",
       " 'West',\n",
       " 'West',\n",
       " 'West',\n",
       " 'West',\n",
       " 'West',\n",
       " 'West',\n",
       " 'West',\n",
       " 'West',\n",
       " 'South',\n",
       " 'South',\n",
       " 'South',\n",
       " 'South',\n",
       " 'South',\n",
       " 'South',\n",
       " 'South',\n",
       " 'South',\n",
       " 'South',\n",
       " 'South',\n",
       " 'South',\n",
       " 'South',\n",
       " 'South',\n",
       " 'South',\n",
       " 'South',\n",
       " 'South',\n",
       " 'South',\n",
       " 'South',\n",
       " 'South',\n",
       " 'South',\n",
       " 'South',\n",
       " 'South',\n",
       " 'South',\n",
       " 'South',\n",
       " 'South',\n",
       " 'South',\n",
       " 'South',\n",
       " 'South',\n",
       " 'South',\n",
       " 'South',\n",
       " 'South',\n",
       " 'South',\n",
       " 'South',\n",
       " 'South',\n",
       " 'South',\n",
       " 'South',\n",
       " 'South',\n",
       " 'South',\n",
       " 'South',\n",
       " 'South',\n",
       " 'South',\n",
       " 'South',\n",
       " 'South',\n",
       " 'South',\n",
       " 'South',\n",
       " 'South',\n",
       " 'South',\n",
       " 'South',\n",
       " 'South',\n",
       " 'South',\n",
       " 'South',\n",
       " 'South',\n",
       " 'South',\n",
       " 'South',\n",
       " 'South',\n",
       " 'South',\n",
       " 'South',\n",
       " 'South',\n",
       " 'South',\n",
       " 'South',\n",
       " 'South',\n",
       " 'South',\n",
       " 'South',\n",
       " 'South',\n",
       " 'South',\n",
       " 'South',\n",
       " 'South',\n",
       " 'South',\n",
       " 'South',\n",
       " 'South',\n",
       " 'South',\n",
       " 'South',\n",
       " 'South',\n",
       " 'South',\n",
       " 'South',\n",
       " 'South',\n",
       " 'South',\n",
       " 'South',\n",
       " 'South',\n",
       " 'South',\n",
       " 'South',\n",
       " 'South',\n",
       " 'South',\n",
       " 'South',\n",
       " 'South',\n",
       " 'South',\n",
       " 'South',\n",
       " 'South',\n",
       " 'South',\n",
       " 'South',\n",
       " 'South',\n",
       " 'South',\n",
       " 'South',\n",
       " 'South',\n",
       " 'South',\n",
       " 'South',\n",
       " 'South',\n",
       " 'South',\n",
       " 'South',\n",
       " 'South',\n",
       " 'South',\n",
       " 'South',\n",
       " 'South',\n",
       " 'South',\n",
       " 'South',\n",
       " 'South',\n",
       " 'South',\n",
       " 'South',\n",
       " 'South',\n",
       " 'South',\n",
       " 'South',\n",
       " 'South',\n",
       " 'South',\n",
       " 'South',\n",
       " 'South',\n",
       " 'South',\n",
       " 'South',\n",
       " 'South',\n",
       " 'South',\n",
       " 'South',\n",
       " 'South',\n",
       " 'South',\n",
       " 'South',\n",
       " 'South',\n",
       " 'South',\n",
       " 'South',\n",
       " 'South',\n",
       " 'South',\n",
       " 'South',\n",
       " 'South',\n",
       " 'South',\n",
       " 'South',\n",
       " 'South',\n",
       " 'South',\n",
       " 'South',\n",
       " 'South',\n",
       " 'South',\n",
       " 'South',\n",
       " 'South',\n",
       " 'South',\n",
       " 'South',\n",
       " 'South',\n",
       " 'South',\n",
       " 'South',\n",
       " 'South',\n",
       " 'South',\n",
       " 'South',\n",
       " 'South',\n",
       " 'South',\n",
       " 'South',\n",
       " 'South',\n",
       " 'South',\n",
       " 'South',\n",
       " 'South',\n",
       " 'South',\n",
       " 'South',\n",
       " 'South',\n",
       " 'South',\n",
       " 'South',\n",
       " 'South',\n",
       " 'South',\n",
       " 'South',\n",
       " 'South',\n",
       " 'South',\n",
       " 'South',\n",
       " 'South',\n",
       " 'South',\n",
       " 'South',\n",
       " 'South',\n",
       " 'South',\n",
       " 'South',\n",
       " 'South',\n",
       " 'South',\n",
       " 'South',\n",
       " 'South',\n",
       " 'South',\n",
       " 'South',\n",
       " 'South',\n",
       " 'South',\n",
       " 'South',\n",
       " 'South',\n",
       " 'South',\n",
       " 'South',\n",
       " 'South',\n",
       " 'South',\n",
       " 'South',\n",
       " 'South',\n",
       " 'South',\n",
       " 'South',\n",
       " 'South',\n",
       " 'South',\n",
       " 'South',\n",
       " 'South',\n",
       " 'South',\n",
       " 'South',\n",
       " 'South',\n",
       " 'South',\n",
       " 'South',\n",
       " 'South',\n",
       " 'South',\n",
       " 'South',\n",
       " 'South',\n",
       " 'South',\n",
       " 'South',\n",
       " 'South',\n",
       " 'South',\n",
       " 'South',\n",
       " 'South',\n",
       " 'South',\n",
       " 'South',\n",
       " 'South',\n",
       " 'South',\n",
       " 'South',\n",
       " 'South',\n",
       " 'South',\n",
       " 'South',\n",
       " 'South',\n",
       " 'South',\n",
       " 'South',\n",
       " 'South',\n",
       " 'South',\n",
       " 'South',\n",
       " 'South',\n",
       " 'South',\n",
       " 'South',\n",
       " 'South',\n",
       " 'South',\n",
       " 'South',\n",
       " 'South',\n",
       " 'South',\n",
       " 'South',\n",
       " 'South',\n",
       " 'South',\n",
       " 'South',\n",
       " 'South',\n",
       " 'South',\n",
       " 'South',\n",
       " 'South',\n",
       " 'South',\n",
       " 'South',\n",
       " 'South',\n",
       " 'South',\n",
       " 'South',\n",
       " 'South',\n",
       " 'South',\n",
       " 'South',\n",
       " 'South',\n",
       " 'South',\n",
       " 'South',\n",
       " 'South',\n",
       " 'South',\n",
       " 'South',\n",
       " 'South',\n",
       " 'South',\n",
       " 'South',\n",
       " 'South',\n",
       " 'South',\n",
       " 'South',\n",
       " 'South',\n",
       " 'South',\n",
       " 'South',\n",
       " 'South',\n",
       " 'South',\n",
       " 'South',\n",
       " 'South',\n",
       " 'South',\n",
       " 'South',\n",
       " 'South',\n",
       " 'South',\n",
       " 'South',\n",
       " 'South',\n",
       " 'South',\n",
       " 'South',\n",
       " 'South',\n",
       " 'South',\n",
       " 'South',\n",
       " 'South',\n",
       " 'South',\n",
       " 'South',\n",
       " 'South',\n",
       " 'South',\n",
       " 'South',\n",
       " 'South',\n",
       " 'South',\n",
       " 'South',\n",
       " 'South',\n",
       " 'South',\n",
       " 'South',\n",
       " 'South',\n",
       " 'South',\n",
       " 'South',\n",
       " 'South',\n",
       " 'South',\n",
       " 'South',\n",
       " 'South',\n",
       " 'South',\n",
       " 'South',\n",
       " 'South',\n",
       " 'South',\n",
       " 'South',\n",
       " 'South',\n",
       " 'South',\n",
       " 'South',\n",
       " 'South',\n",
       " 'South',\n",
       " 'South',\n",
       " 'South',\n",
       " 'South',\n",
       " 'South',\n",
       " 'South',\n",
       " 'South',\n",
       " 'South',\n",
       " 'South',\n",
       " 'South',\n",
       " 'South',\n",
       " 'South',\n",
       " 'South',\n",
       " 'South',\n",
       " 'South',\n",
       " 'South',\n",
       " 'South',\n",
       " 'South',\n",
       " 'South',\n",
       " 'South',\n",
       " 'South',\n",
       " 'South',\n",
       " 'South',\n",
       " 'South',\n",
       " 'South',\n",
       " 'South',\n",
       " 'South',\n",
       " 'South',\n",
       " 'South',\n",
       " 'South',\n",
       " 'South',\n",
       " 'South',\n",
       " 'South',\n",
       " 'South',\n",
       " 'South',\n",
       " 'South',\n",
       " 'South',\n",
       " 'South',\n",
       " 'South',\n",
       " 'South',\n",
       " 'South',\n",
       " 'South',\n",
       " 'South',\n",
       " 'South',\n",
       " 'South',\n",
       " 'South',\n",
       " 'South',\n",
       " 'South',\n",
       " 'South',\n",
       " 'South',\n",
       " 'South',\n",
       " 'South',\n",
       " 'South',\n",
       " 'South',\n",
       " 'South',\n",
       " 'South',\n",
       " 'South',\n",
       " 'South',\n",
       " 'South',\n",
       " 'South',\n",
       " 'South',\n",
       " 'South',\n",
       " 'South',\n",
       " 'South',\n",
       " 'South',\n",
       " 'South',\n",
       " 'South',\n",
       " 'South',\n",
       " 'South',\n",
       " 'South',\n",
       " 'South',\n",
       " 'South',\n",
       " 'South',\n",
       " 'South',\n",
       " 'South',\n",
       " 'South',\n",
       " 'South',\n",
       " 'South',\n",
       " 'South',\n",
       " 'South',\n",
       " 'South',\n",
       " 'South',\n",
       " 'South',\n",
       " 'South',\n",
       " 'South',\n",
       " 'South',\n",
       " 'South',\n",
       " 'South',\n",
       " 'South',\n",
       " 'South',\n",
       " 'South',\n",
       " 'South',\n",
       " 'South',\n",
       " 'South',\n",
       " 'South',\n",
       " 'South',\n",
       " 'South',\n",
       " 'South',\n",
       " 'South',\n",
       " 'South',\n",
       " 'South',\n",
       " 'South',\n",
       " 'South',\n",
       " 'South',\n",
       " 'South',\n",
       " 'South',\n",
       " 'South',\n",
       " 'South',\n",
       " 'South',\n",
       " 'South',\n",
       " 'South',\n",
       " 'South',\n",
       " 'South',\n",
       " 'South',\n",
       " 'South',\n",
       " 'South',\n",
       " 'South',\n",
       " 'South',\n",
       " 'South',\n",
       " 'South',\n",
       " 'South',\n",
       " 'South',\n",
       " 'South',\n",
       " 'South',\n",
       " 'South',\n",
       " 'South',\n",
       " 'South',\n",
       " 'South',\n",
       " 'South',\n",
       " 'South',\n",
       " 'South',\n",
       " 'South',\n",
       " 'South',\n",
       " 'South',\n",
       " 'South',\n",
       " 'South',\n",
       " 'South',\n",
       " 'South',\n",
       " 'South',\n",
       " 'South',\n",
       " 'South',\n",
       " 'South',\n",
       " 'South',\n",
       " 'South',\n",
       " 'South',\n",
       " 'South',\n",
       " 'South',\n",
       " 'South',\n",
       " 'South',\n",
       " 'South',\n",
       " 'South',\n",
       " 'South',\n",
       " 'South',\n",
       " 'South',\n",
       " 'South',\n",
       " 'South',\n",
       " ...]"
      ]
     },
     "execution_count": 11,
     "metadata": {},
     "output_type": "execute_result"
    }
   ],
   "source": [
    "# checking region list\n",
    "region"
   ]
  },
  {
   "cell_type": "code",
   "execution_count": 12,
   "id": "ad9f9178",
   "metadata": {},
   "outputs": [],
   "source": [
    "# adding region column \n",
    "\n",
    "df['region'] = region"
   ]
  },
  {
   "cell_type": "code",
   "execution_count": 13,
   "id": "a70c1a5b",
   "metadata": {},
   "outputs": [
    {
     "data": {
      "text/plain": [
       "South        10792300\n",
       "West          8293217\n",
       "Midwest       7597585\n",
       "Northeast     5722939\n",
       "Name: region, dtype: int64"
      ]
     },
     "execution_count": 13,
     "metadata": {},
     "output_type": "execute_result"
    }
   ],
   "source": [
    "# checking results\n",
    "df['region'].value_counts(dropna = False)"
   ]
  },
  {
   "cell_type": "markdown",
   "id": "a8b19e06",
   "metadata": {},
   "source": [
    "determining difference in spending habits between the different U.S. regions (step 3.2)"
   ]
  },
  {
   "cell_type": "code",
   "execution_count": 14,
   "id": "a4a59d08",
   "metadata": {},
   "outputs": [],
   "source": [
    "# crosstab between region and spending_flag\n",
    "regional_spending_crosstab = pd.crosstab(df['region'], df['spending_flag'], dropna = False)"
   ]
  },
  {
   "cell_type": "code",
   "execution_count": 15,
   "id": "7b6037bb",
   "metadata": {},
   "outputs": [
    {
     "data": {
      "text/html": [
       "<div>\n",
       "<style scoped>\n",
       "    .dataframe tbody tr th:only-of-type {\n",
       "        vertical-align: middle;\n",
       "    }\n",
       "\n",
       "    .dataframe tbody tr th {\n",
       "        vertical-align: top;\n",
       "    }\n",
       "\n",
       "    .dataframe thead th {\n",
       "        text-align: right;\n",
       "    }\n",
       "</style>\n",
       "<table border=\"1\" class=\"dataframe\">\n",
       "  <thead>\n",
       "    <tr style=\"text-align: right;\">\n",
       "      <th>spending_flag</th>\n",
       "      <th>High spender</th>\n",
       "      <th>Low spender</th>\n",
       "    </tr>\n",
       "    <tr>\n",
       "      <th>region</th>\n",
       "      <th></th>\n",
       "      <th></th>\n",
       "    </tr>\n",
       "  </thead>\n",
       "  <tbody>\n",
       "    <tr>\n",
       "      <th>Midwest</th>\n",
       "      <td>155979</td>\n",
       "      <td>7441606</td>\n",
       "    </tr>\n",
       "    <tr>\n",
       "      <th>Northeast</th>\n",
       "      <td>108226</td>\n",
       "      <td>5614713</td>\n",
       "    </tr>\n",
       "    <tr>\n",
       "      <th>South</th>\n",
       "      <td>209693</td>\n",
       "      <td>10582607</td>\n",
       "    </tr>\n",
       "    <tr>\n",
       "      <th>West</th>\n",
       "      <td>160354</td>\n",
       "      <td>8132863</td>\n",
       "    </tr>\n",
       "  </tbody>\n",
       "</table>\n",
       "</div>"
      ],
      "text/plain": [
       "spending_flag  High spender  Low spender\n",
       "region                                  \n",
       "Midwest              155979      7441606\n",
       "Northeast            108226      5614713\n",
       "South                209693     10582607\n",
       "West                 160354      8132863"
      ]
     },
     "execution_count": 15,
     "metadata": {},
     "output_type": "execute_result"
    }
   ],
   "source": [
    "# checking results\n",
    "\n",
    "regional_spending_crosstab"
   ]
  },
  {
   "cell_type": "code",
   "execution_count": 160,
   "id": "76bb4073",
   "metadata": {},
   "outputs": [
    {
     "data": {
      "image/png": "[encoded data removed]",
      "text/plain": [
       "<Figure size 640x480 with 1 Axes>"
      ]
     },
     "metadata": {},
     "output_type": "display_data"
    }
   ],
   "source": [
    "# creating bar chart \n",
    "\n",
    "regional_spending_bar = regional_spending_crosstab.plot.bar(color = ['darkred','coral'], ec = 'black')"
   ]
  },
  {
   "cell_type": "code",
   "execution_count": 157,
   "id": "972193dd",
   "metadata": {},
   "outputs": [],
   "source": [
    "spending_region_crosstab = pd.crosstab(df['spending_flag'], df['region'], dropna = False)"
   ]
  },
  {
   "cell_type": "code",
   "execution_count": 158,
   "id": "d284686b",
   "metadata": {},
   "outputs": [
    {
     "data": {
      "image/png": "[encoded data removed]",
      "text/plain": [
       "<Figure size 640x480 with 1 Axes>"
      ]
     },
     "metadata": {},
     "output_type": "display_data"
    }
   ],
   "source": [
    "spending_regiong_bar = spending_region_crosstab.plot.bar(color = ['navy','blue','green','greenyellow'], ec= ['black'])"
   ]
  },
  {
   "cell_type": "code",
   "execution_count": 164,
   "id": "3cef86fe",
   "metadata": {},
   "outputs": [],
   "source": [
    "spending_loyal_crosstab = pd.crosstab(df['spending_flag'], df['loyalty_flag'], dropna = False)"
   ]
  },
  {
   "cell_type": "code",
   "execution_count": 174,
   "id": "ef920954",
   "metadata": {},
   "outputs": [
    {
     "data": {
      "image/png": "[encoded data removed]",
      "text/plain": [
       "<Figure size 640x480 with 1 Axes>"
      ]
     },
     "metadata": {},
     "output_type": "display_data"
    }
   ],
   "source": [
    "spending_loyal_bar = spending_loyal_crosstab.plot.bar(color = ['skyblue','lime', 'teal'], ec = 'black')"
   ]
  },
  {
   "cell_type": "code",
   "execution_count": 176,
   "id": "1592761e",
   "metadata": {},
   "outputs": [],
   "source": [
    "loyal_spending_crosstab = pd.crosstab(df['loyalty_flag'], df['spending_flag'], dropna = False)"
   ]
  },
  {
   "cell_type": "code",
   "execution_count": 178,
   "id": "c44e63fb",
   "metadata": {},
   "outputs": [
    {
     "data": {
      "image/png": "[encoded data removed]",
      "text/plain": [
       "<Figure size 640x480 with 1 Axes>"
      ]
     },
     "metadata": {},
     "output_type": "display_data"
    }
   ],
   "source": [
    "loyal_spending_bar = loyal_spending_crosstab.plot.bar(color = ['brown','peru'], ec = 'black')"
   ]
  },
  {
   "cell_type": "code",
   "execution_count": 161,
   "id": "f0605844",
   "metadata": {},
   "outputs": [],
   "source": [
    "# exporting bar charts\n",
    "\n",
    "regional_spending_bar.figure.savefig(os.path.join(path, '04 Analysis', 'Visualizations', 'regional_spending_bar.png'))"
   ]
  },
  {
   "cell_type": "code",
   "execution_count": 169,
   "id": "c715eac7",
   "metadata": {},
   "outputs": [],
   "source": [
    "spending_regiong_bar.figure.savefig(os.path.join(path, '04 Analysis', 'Visualizations', 'spending_regiong_bar.png'))"
   ]
  },
  {
   "cell_type": "code",
   "execution_count": 175,
   "id": "01b577a6",
   "metadata": {},
   "outputs": [],
   "source": [
    "spending_loyal_bar .figure.savefig(os.path.join(path, '04 Analysis', 'Visualizations', 'spending_loyal_bar .png'))"
   ]
  },
  {
   "cell_type": "code",
   "execution_count": 179,
   "id": "faf2a952",
   "metadata": {},
   "outputs": [],
   "source": [
    "loyal_spending_bar .figure.savefig(os.path.join(path, '04 Analysis', 'Visualizations', 'loyal_spending .png'))"
   ]
  },
  {
   "cell_type": "markdown",
   "id": "a78e5698",
   "metadata": {},
   "source": [
    "# exclusion flag for low-activity customers (step 4)"
   ]
  },
  {
   "cell_type": "code",
   "execution_count": 18,
   "id": "bd942163",
   "metadata": {},
   "outputs": [],
   "source": [
    "# creating activity flags\n",
    "\n",
    "df.loc[df['max_order'] < 5, 'activity_flag'] = 'low-activity customer'"
   ]
  },
  {
   "cell_type": "code",
   "execution_count": 19,
   "id": "019b5517",
   "metadata": {},
   "outputs": [],
   "source": [
    "df.loc[df['max_order'] >= 5, 'activity_flag'] = 'high-activity customer'"
   ]
  },
  {
   "cell_type": "code",
   "execution_count": 20,
   "id": "799d9ce1",
   "metadata": {},
   "outputs": [
    {
     "data": {
      "text/plain": [
       "high-activity customer    30965686\n",
       "low-activity customer      1440355\n",
       "Name: activity_flag, dtype: int64"
      ]
     },
     "execution_count": 20,
     "metadata": {},
     "output_type": "execute_result"
    }
   ],
   "source": [
    "df['activity_flag'].value_counts(dropna = False)"
   ]
  },
  {
   "cell_type": "code",
   "execution_count": 21,
   "id": "8ca4406d",
   "metadata": {},
   "outputs": [],
   "source": [
    "# creating high-activity customers sample\n",
    "\n",
    "df_high_activity = df[df['activity_flag'] == 'high-activity customer']"
   ]
  },
  {
   "cell_type": "code",
   "execution_count": 22,
   "id": "76d53c0d",
   "metadata": {},
   "outputs": [
    {
     "data": {
      "text/plain": [
       "(32406041, 30)"
      ]
     },
     "execution_count": 22,
     "metadata": {},
     "output_type": "execute_result"
    }
   ],
   "source": [
    "# checking results\n",
    "df.shape"
   ]
  },
  {
   "cell_type": "code",
   "execution_count": 23,
   "id": "9f63742d",
   "metadata": {},
   "outputs": [
    {
     "data": {
      "text/plain": [
       "(30965686, 30)"
      ]
     },
     "execution_count": 23,
     "metadata": {},
     "output_type": "execute_result"
    }
   ],
   "source": [
    "df_high_activity.shape"
   ]
  },
  {
   "cell_type": "code",
   "execution_count": 24,
   "id": "1fa71b93",
   "metadata": {},
   "outputs": [],
   "source": [
    "df_high_activity.to_pickle(os.path.join(path,'02 Data','Prepared Data','high_activity_customers.pkl'))"
   ]
  },
  {
   "cell_type": "markdown",
   "id": "d0b5bccf",
   "metadata": {},
   "source": [
    "# customer profiling (step 5 and 6)"
   ]
  },
  {
   "cell_type": "markdown",
   "id": "4f61f96e",
   "metadata": {},
   "source": [
    "customer profiling by age"
   ]
  },
  {
   "cell_type": "code",
   "execution_count": 25,
   "id": "0d96cbd4",
   "metadata": {},
   "outputs": [],
   "source": [
    "# creating age profiles\n",
    "\n",
    "df.loc[df['Age'] < 30, 'age_profile'] = 'below-30'"
   ]
  },
  {
   "cell_type": "code",
   "execution_count": 26,
   "id": "b26a7f9c",
   "metadata": {},
   "outputs": [],
   "source": [
    "df.loc[((df['Age'] >= 30) & (df['Age'] <= 60)), 'age_profile'] = '30-to-60'"
   ]
  },
  {
   "cell_type": "code",
   "execution_count": 27,
   "id": "ac7c6714",
   "metadata": {},
   "outputs": [],
   "source": [
    "df.loc[df['Age'] > 60, 'age_profile'] = 'over-60'"
   ]
  },
  {
   "cell_type": "code",
   "execution_count": 28,
   "id": "088ff3ac",
   "metadata": {},
   "outputs": [
    {
     "data": {
      "text/plain": [
       "30-to-60    15732153\n",
       "over-60     10583191\n",
       "below-30     6090697\n",
       "Name: age_profile, dtype: int64"
      ]
     },
     "execution_count": 28,
     "metadata": {},
     "output_type": "execute_result"
    }
   ],
   "source": [
    "# checking results\n",
    "df['age_profile'].value_counts(dropna = False)"
   ]
  },
  {
   "cell_type": "code",
   "execution_count": 29,
   "id": "f277c7a8",
   "metadata": {},
   "outputs": [
    {
     "data": {
      "image/png": "[encoded data removed]",
      "text/plain": [
       "<Figure size 640x480 with 1 Axes>"
      ]
     },
     "metadata": {},
     "output_type": "display_data"
    }
   ],
   "source": [
    "# creating bar chart\n",
    "age_bar = df['age_profile'].value_counts().plot.bar(color=['grey'], ec = 'black')\n"
   ]
  },
  {
   "cell_type": "code",
   "execution_count": 30,
   "id": "13c36517",
   "metadata": {},
   "outputs": [],
   "source": [
    "# exporting bar chart\n",
    "age_bar.figure.savefig(os.path.join(path, '04 Analysis', 'Visualizations', 'age_bar.png'))"
   ]
  },
  {
   "cell_type": "markdown",
   "id": "de21225d",
   "metadata": {},
   "source": [
    "customer profiling by income"
   ]
  },
  {
   "cell_type": "code",
   "execution_count": 31,
   "id": "ca123814",
   "metadata": {},
   "outputs": [
    {
     "data": {
      "image/png": "[encoded data removed]",
      "text/plain": [
       "<Figure size 640x480 with 1 Axes>"
      ]
     },
     "metadata": {},
     "output_type": "display_data"
    }
   ],
   "source": [
    "# creating histogram for income distibution\n",
    "income_histogram = df['income'].plot.hist(bins = 20, color = ['red'], ec = 'black')\n"
   ]
  },
  {
   "cell_type": "code",
   "execution_count": 32,
   "id": "473609b4",
   "metadata": {},
   "outputs": [],
   "source": [
    "# exporting historam\n",
    "income_histogram.figure.savefig(os.path.join(path, '04 Analysis', 'Visualizations', 'income_histogram.png'))"
   ]
  },
  {
   "cell_type": "code",
   "execution_count": 33,
   "id": "88c5184d",
   "metadata": {},
   "outputs": [],
   "source": [
    "df.loc[df['income'] < 750000, 'income_profile'] = 'below-75k'"
   ]
  },
  {
   "cell_type": "code",
   "execution_count": 34,
   "id": "7fbef338",
   "metadata": {},
   "outputs": [],
   "source": [
    "df.loc[(df['income'] >= 75000) & (df['income'] <= 125000), 'income_profile'] = '75k-to-125k'"
   ]
  },
  {
   "cell_type": "code",
   "execution_count": 35,
   "id": "6c3c5824",
   "metadata": {},
   "outputs": [],
   "source": [
    "df.loc[df['income'] > 125000, 'income_profile'] = 'over-125k'"
   ]
  },
  {
   "cell_type": "code",
   "execution_count": 36,
   "id": "15feec0b",
   "metadata": {},
   "outputs": [
    {
     "data": {
      "text/plain": [
       "75k-to-125k    13331618\n",
       "below-75k      10443165\n",
       "over-125k       8631258\n",
       "Name: income_profile, dtype: int64"
      ]
     },
     "execution_count": 36,
     "metadata": {},
     "output_type": "execute_result"
    }
   ],
   "source": [
    "df['income_profile'].value_counts(dropna = False)"
   ]
  },
  {
   "cell_type": "code",
   "execution_count": 37,
   "id": "16cd1c1c",
   "metadata": {},
   "outputs": [
    {
     "data": {
      "image/png": "[encoded data removed]",
      "text/plain": [
       "<Figure size 640x480 with 1 Axes>"
      ]
     },
     "metadata": {},
     "output_type": "display_data"
    }
   ],
   "source": [
    "# creating bar chart \n",
    "\n",
    "income_bar = df['income_profile'].value_counts().plot.bar(color = ['red'], ec = 'black')"
   ]
  },
  {
   "cell_type": "code",
   "execution_count": 38,
   "id": "8ca82879",
   "metadata": {},
   "outputs": [],
   "source": [
    "# exporting bar chart\n",
    "income_bar.figure.savefig(os.path.join(path, '04 Analysis', 'Visualizations', 'income_bar.png'))"
   ]
  },
  {
   "cell_type": "markdown",
   "id": "db89cf74",
   "metadata": {},
   "source": [
    "customer profiling by type of products\n",
    "\n"
   ]
  },
  {
   "cell_type": "code",
   "execution_count": 39,
   "id": "8814e031",
   "metadata": {},
   "outputs": [
    {
     "data": {
      "text/plain": [
       "4     9479291\n",
       "16    5398747\n",
       "19    2887550\n",
       "7     2688123\n",
       "1     2234743\n",
       "13    1875369\n",
       "3     1172428\n",
       "15    1068058\n",
       "20    1051249\n",
       "9      866627\n",
       "17     738666\n",
       "12     708927\n",
       "14     704111\n",
       "11     447629\n",
       "18     423802\n",
       "6      269253\n",
       "5      153743\n",
       "8       97716\n",
       "21      69145\n",
       "2       36291\n",
       "10      34573\n",
       "Name: department_id, dtype: int64"
      ]
     },
     "execution_count": 39,
     "metadata": {},
     "output_type": "execute_result"
    }
   ],
   "source": [
    "# checking departments\n",
    "df['department_id'].value_counts(dropna = False)"
   ]
  },
  {
   "cell_type": "code",
   "execution_count": 40,
   "id": "e56a91fe",
   "metadata": {},
   "outputs": [],
   "source": [
    "# importing department codes \n",
    "df_dep = pd.read_csv(os.path.join(path, '02 Data', 'Original Data', 'departments.x.csv'), index_col = False)"
   ]
  },
  {
   "cell_type": "code",
   "execution_count": 41,
   "id": "f34ed8e2",
   "metadata": {},
   "outputs": [
    {
     "data": {
      "text/html": [
       "<div>\n",
       "<style scoped>\n",
       "    .dataframe tbody tr th:only-of-type {\n",
       "        vertical-align: middle;\n",
       "    }\n",
       "\n",
       "    .dataframe tbody tr th {\n",
       "        vertical-align: top;\n",
       "    }\n",
       "\n",
       "    .dataframe thead th {\n",
       "        text-align: right;\n",
       "    }\n",
       "</style>\n",
       "<table border=\"1\" class=\"dataframe\">\n",
       "  <thead>\n",
       "    <tr style=\"text-align: right;\">\n",
       "      <th></th>\n",
       "      <th>department_id</th>\n",
       "      <th>1</th>\n",
       "      <th>2</th>\n",
       "      <th>3</th>\n",
       "      <th>4</th>\n",
       "      <th>5</th>\n",
       "      <th>6</th>\n",
       "      <th>7</th>\n",
       "      <th>8</th>\n",
       "      <th>9</th>\n",
       "      <th>...</th>\n",
       "      <th>12</th>\n",
       "      <th>13</th>\n",
       "      <th>14</th>\n",
       "      <th>15</th>\n",
       "      <th>16</th>\n",
       "      <th>17</th>\n",
       "      <th>18</th>\n",
       "      <th>19</th>\n",
       "      <th>20</th>\n",
       "      <th>21</th>\n",
       "    </tr>\n",
       "  </thead>\n",
       "  <tbody>\n",
       "    <tr>\n",
       "      <th>0</th>\n",
       "      <td>department</td>\n",
       "      <td>frozen</td>\n",
       "      <td>other</td>\n",
       "      <td>bakery</td>\n",
       "      <td>produce</td>\n",
       "      <td>alcohol</td>\n",
       "      <td>international</td>\n",
       "      <td>beverages</td>\n",
       "      <td>pets</td>\n",
       "      <td>dry goods pasta</td>\n",
       "      <td>...</td>\n",
       "      <td>meat seafood</td>\n",
       "      <td>pantry</td>\n",
       "      <td>breakfast</td>\n",
       "      <td>canned goods</td>\n",
       "      <td>dairy eggs</td>\n",
       "      <td>household</td>\n",
       "      <td>babies</td>\n",
       "      <td>snacks</td>\n",
       "      <td>deli</td>\n",
       "      <td>missing</td>\n",
       "    </tr>\n",
       "  </tbody>\n",
       "</table>\n",
       "<p>1 rows × 22 columns</p>\n",
       "</div>"
      ],
      "text/plain": [
       "  department_id       1      2       3        4        5              6  \\\n",
       "0    department  frozen  other  bakery  produce  alcohol  international   \n",
       "\n",
       "           7     8                9  ...            12      13         14  \\\n",
       "0  beverages  pets  dry goods pasta  ...  meat seafood  pantry  breakfast   \n",
       "\n",
       "             15          16         17      18      19    20       21  \n",
       "0  canned goods  dairy eggs  household  babies  snacks  deli  missing  \n",
       "\n",
       "[1 rows x 22 columns]"
      ]
     },
     "execution_count": 41,
     "metadata": {},
     "output_type": "execute_result"
    }
   ],
   "source": [
    "df_dep"
   ]
  },
  {
   "cell_type": "code",
   "execution_count": 42,
   "id": "0d960fc3",
   "metadata": {},
   "outputs": [],
   "source": [
    "df_dep.to_clipboard() # departments cannot be seen very well - by pasting to excel, confirmed numbers and names"
   ]
  },
  {
   "cell_type": "markdown",
   "id": "3059bd8f",
   "metadata": {},
   "source": [
    "Family status "
   ]
  },
  {
   "cell_type": "code",
   "execution_count": 43,
   "id": "e8f231aa",
   "metadata": {},
   "outputs": [
    {
     "data": {
      "text/plain": [
       "married                             22757541\n",
       "single                               5325934\n",
       "divorced/widowed                     2771925\n",
       "living with parents and siblings     1550641\n",
       "Name: family_status, dtype: int64"
      ]
     },
     "execution_count": 43,
     "metadata": {},
     "output_type": "execute_result"
    }
   ],
   "source": [
    "df['family_status'].value_counts(dropna = False)"
   ]
  },
  {
   "cell_type": "code",
   "execution_count": 44,
   "id": "0f10e36f",
   "metadata": {},
   "outputs": [
    {
     "data": {
      "text/plain": [
       "married                             22757541\n",
       "single                               5325934\n",
       "divorced/widowed                     2771925\n",
       "living with parents and siblings     1550641\n",
       "Name: family_status, dtype: int64"
      ]
     },
     "execution_count": 44,
     "metadata": {},
     "output_type": "execute_result"
    }
   ],
   "source": [
    "df['family_status'].value_counts(dropna = False)"
   ]
  },
  {
   "cell_type": "code",
   "execution_count": 233,
   "id": "3deda71e",
   "metadata": {},
   "outputs": [
    {
     "data": {
      "image/png": "[encoded data removed]",
      "text/plain": [
       "<Figure size 640x480 with 1 Axes>"
      ]
     },
     "metadata": {},
     "output_type": "display_data"
    }
   ],
   "source": [
    "family_status_bar = df['family_status' ].value_counts().plot.bar(color=['navy','teal','skyblue', 'grey'])"
   ]
  },
  {
   "cell_type": "code",
   "execution_count": 234,
   "id": "5d6646cc",
   "metadata": {},
   "outputs": [],
   "source": [
    "family_status_bar.figure.savefig(os.path.join(path, '04 Analysis', 'Visualizations', 'family_status_bar.png'))"
   ]
  },
  {
   "cell_type": "code",
   "execution_count": 45,
   "id": "a669d11b",
   "metadata": {},
   "outputs": [],
   "source": [
    "family_status_crosstab = pd.crosstab(df['family_status'], df['Dependants'], dropna = False)"
   ]
  },
  {
   "cell_type": "code",
   "execution_count": 46,
   "id": "7088c527",
   "metadata": {},
   "outputs": [
    {
     "data": {
      "text/html": [
       "<div>\n",
       "<style scoped>\n",
       "    .dataframe tbody tr th:only-of-type {\n",
       "        vertical-align: middle;\n",
       "    }\n",
       "\n",
       "    .dataframe tbody tr th {\n",
       "        vertical-align: top;\n",
       "    }\n",
       "\n",
       "    .dataframe thead th {\n",
       "        text-align: right;\n",
       "    }\n",
       "</style>\n",
       "<table border=\"1\" class=\"dataframe\">\n",
       "  <thead>\n",
       "    <tr style=\"text-align: right;\">\n",
       "      <th>Dependants</th>\n",
       "      <th>0</th>\n",
       "      <th>1</th>\n",
       "      <th>2</th>\n",
       "      <th>3</th>\n",
       "    </tr>\n",
       "    <tr>\n",
       "      <th>family_status</th>\n",
       "      <th></th>\n",
       "      <th></th>\n",
       "      <th></th>\n",
       "      <th></th>\n",
       "    </tr>\n",
       "  </thead>\n",
       "  <tbody>\n",
       "    <tr>\n",
       "      <th>divorced/widowed</th>\n",
       "      <td>2771925</td>\n",
       "      <td>0</td>\n",
       "      <td>0</td>\n",
       "      <td>0</td>\n",
       "    </tr>\n",
       "    <tr>\n",
       "      <th>living with parents and siblings</th>\n",
       "      <td>0</td>\n",
       "      <td>530216</td>\n",
       "      <td>507977</td>\n",
       "      <td>512448</td>\n",
       "    </tr>\n",
       "    <tr>\n",
       "      <th>married</th>\n",
       "      <td>0</td>\n",
       "      <td>7551193</td>\n",
       "      <td>7583419</td>\n",
       "      <td>7622929</td>\n",
       "    </tr>\n",
       "    <tr>\n",
       "      <th>single</th>\n",
       "      <td>5325934</td>\n",
       "      <td>0</td>\n",
       "      <td>0</td>\n",
       "      <td>0</td>\n",
       "    </tr>\n",
       "  </tbody>\n",
       "</table>\n",
       "</div>"
      ],
      "text/plain": [
       "Dependants                              0        1        2        3\n",
       "family_status                                                       \n",
       "divorced/widowed                  2771925        0        0        0\n",
       "living with parents and siblings        0   530216   507977   512448\n",
       "married                                 0  7551193  7583419  7622929\n",
       "single                            5325934        0        0        0"
      ]
     },
     "execution_count": 46,
     "metadata": {},
     "output_type": "execute_result"
    }
   ],
   "source": [
    "family_status_crosstab"
   ]
  },
  {
   "cell_type": "code",
   "execution_count": 47,
   "id": "71d284f9",
   "metadata": {},
   "outputs": [],
   "source": [
    "df.loc[(df['Dependants'] == 0), 'children'] = 'no childern'"
   ]
  },
  {
   "cell_type": "code",
   "execution_count": 48,
   "id": "b0a0af8e",
   "metadata": {},
   "outputs": [],
   "source": [
    "df.loc[(df['Dependants'] >= 1), 'children'] = 'with childern'"
   ]
  },
  {
   "cell_type": "code",
   "execution_count": 49,
   "id": "537c959a",
   "metadata": {},
   "outputs": [
    {
     "data": {
      "text/plain": [
       "with childern    24308182\n",
       "no childern       8097859\n",
       "Name: children, dtype: int64"
      ]
     },
     "execution_count": 49,
     "metadata": {},
     "output_type": "execute_result"
    }
   ],
   "source": [
    "df['children'].value_counts(dropna = False)"
   ]
  },
  {
   "cell_type": "code",
   "execution_count": 235,
   "id": "900b455f",
   "metadata": {},
   "outputs": [
    {
     "data": {
      "image/png": "[encoded data removed]",
      "text/plain": [
       "<Figure size 640x480 with 1 Axes>"
      ]
     },
     "metadata": {},
     "output_type": "display_data"
    }
   ],
   "source": [
    "children_status_bar = df['children'].value_counts().plot.bar(color=['orange'])\n"
   ]
  },
  {
   "cell_type": "code",
   "execution_count": 51,
   "id": "904f5d00",
   "metadata": {},
   "outputs": [],
   "source": [
    "children_status_bar.figure.savefig(os.path.join(path, '04 Analysis', 'Visualizations', 'children_status_bar.png'))"
   ]
  },
  {
   "cell_type": "code",
   "execution_count": 52,
   "id": "e1381649",
   "metadata": {},
   "outputs": [],
   "source": [
    "# creating crosstab for users and departments\n",
    "user_dep_crosstab = pd.crosstab(df['department_id'], df['user_id'], dropna = False)"
   ]
  },
  {
   "cell_type": "code",
   "execution_count": 53,
   "id": "07d2ce9a",
   "metadata": {},
   "outputs": [],
   "source": [
    "# creating and assingning flags for baby-parents\n",
    "baby_dict = dict()\n",
    "for user in user_dep_crosstab:\n",
    "    workinglist = user_dep_crosstab[user].tolist()\n",
    "    if workinglist[18] == 0 :     \n",
    "        baby_dict[user] = 'non-baby-parent'\n",
    "    else:\n",
    "        baby_dict[user] = 'baby-parent'"
   ]
  },
  {
   "cell_type": "code",
   "execution_count": 54,
   "id": "5a64d017",
   "metadata": {},
   "outputs": [],
   "source": [
    "baby_flag = []\n",
    "\n",
    "for user in df['user_id']:\n",
    "    baby_flag.append(baby_dict[user])"
   ]
  },
  {
   "cell_type": "code",
   "execution_count": 55,
   "id": "84ecf095",
   "metadata": {},
   "outputs": [],
   "source": [
    "df['baby_parents'] = baby_flag"
   ]
  },
  {
   "cell_type": "code",
   "execution_count": 56,
   "id": "811ad304",
   "metadata": {},
   "outputs": [
    {
     "data": {
      "text/plain": [
       "baby-parent        30989507\n",
       "non-baby-parent     1416534\n",
       "Name: baby_parents, dtype: int64"
      ]
     },
     "execution_count": 56,
     "metadata": {},
     "output_type": "execute_result"
    }
   ],
   "source": [
    "df['baby_parents'].value_counts(dropna = False)"
   ]
  },
  {
   "cell_type": "code",
   "execution_count": 57,
   "id": "2b8807f4",
   "metadata": {},
   "outputs": [
    {
     "data": {
      "image/png": "[encoded data removed]",
      "text/plain": [
       "<Figure size 640x480 with 1 Axes>"
      ]
     },
     "metadata": {},
     "output_type": "display_data"
    }
   ],
   "source": [
    "bar_baby_parents = df['baby_parents'].value_counts().plot.bar(color = ['yellow'], ec = 'black')\n"
   ]
  },
  {
   "cell_type": "code",
   "execution_count": 58,
   "id": "53f20f40",
   "metadata": {},
   "outputs": [],
   "source": [
    "bar_baby_parents.figure.savefig(os.path.join(path, '04 Analysis', 'Visualizations', 'bar_baby_parents.png'))"
   ]
  },
  {
   "cell_type": "code",
   "execution_count": 59,
   "id": "0545ee0b",
   "metadata": {},
   "outputs": [],
   "source": [
    "# creating and assingning flags for abstinant customers"
   ]
  },
  {
   "cell_type": "code",
   "execution_count": 60,
   "id": "032777db",
   "metadata": {},
   "outputs": [],
   "source": [
    "abstinent_dict = dict()\n",
    "for user in user_dep_crosstab:\n",
    "    workinglist = user_dep_crosstab[user].tolist()\n",
    "    if workinglist[5] == 0 :     \n",
    "        abstinent_dict[user] = 'abstinent'\n",
    "    else:\n",
    "        abstinent_dict[user] = 'non-abstinent'"
   ]
  },
  {
   "cell_type": "code",
   "execution_count": 61,
   "id": "a2531e5c",
   "metadata": {},
   "outputs": [],
   "source": [
    "alcohol_flag = []\n",
    "\n",
    "for user in df['user_id']:\n",
    "    alcohol_flag.append(abstinent_dict[user])"
   ]
  },
  {
   "cell_type": "code",
   "execution_count": 62,
   "id": "8c9558ab",
   "metadata": {},
   "outputs": [],
   "source": [
    "df['abstinence'] = alcohol_flag"
   ]
  },
  {
   "cell_type": "code",
   "execution_count": 63,
   "id": "73067d7c",
   "metadata": {},
   "outputs": [
    {
     "data": {
      "text/plain": [
       "non-abstinent    19540578\n",
       "abstinent        12865463\n",
       "Name: abstinence, dtype: int64"
      ]
     },
     "execution_count": 63,
     "metadata": {},
     "output_type": "execute_result"
    }
   ],
   "source": [
    "df['abstinence'].value_counts(dropna = False)"
   ]
  },
  {
   "cell_type": "code",
   "execution_count": 64,
   "id": "2a9d0e3d",
   "metadata": {},
   "outputs": [
    {
     "data": {
      "image/png": "[encoded data removed]",
      "text/plain": [
       "<Figure size 640x480 with 1 Axes>"
      ]
     },
     "metadata": {},
     "output_type": "display_data"
    }
   ],
   "source": [
    "bar_abstinent = df['abstinence'].value_counts().plot.bar(color = ['yellow'], ec = 'black')"
   ]
  },
  {
   "cell_type": "code",
   "execution_count": 65,
   "id": "f24e6053",
   "metadata": {},
   "outputs": [],
   "source": [
    "bar_abstinent.figure.savefig(os.path.join(path, '04 Analysis', 'Visualizations', 'abstinent_bar.png'))"
   ]
  },
  {
   "cell_type": "code",
   "execution_count": 66,
   "id": "bbba6b25",
   "metadata": {},
   "outputs": [],
   "source": [
    "# creating and assingning flags for pet owners"
   ]
  },
  {
   "cell_type": "code",
   "execution_count": 67,
   "id": "03d3464f",
   "metadata": {},
   "outputs": [],
   "source": [
    "pet_dict = dict()\n",
    "for user in user_dep_crosstab:\n",
    "    workinglist = user_dep_crosstab[user].tolist()\n",
    "    if workinglist[8] == 0 :     \n",
    "        pet_dict[user] = 'non-pet-owner'\n",
    "    else:\n",
    "        pet_dict[user] = 'pet-owner'"
   ]
  },
  {
   "cell_type": "code",
   "execution_count": 68,
   "id": "20257183",
   "metadata": {},
   "outputs": [],
   "source": [
    "pet_flag = []\n",
    "for user in df['user_id']:\n",
    "    pet_flag.append(pet_dict[user])"
   ]
  },
  {
   "cell_type": "code",
   "execution_count": 69,
   "id": "00a10140",
   "metadata": {},
   "outputs": [],
   "source": [
    "df['pet_owners'] = pet_flag"
   ]
  },
  {
   "cell_type": "code",
   "execution_count": 70,
   "id": "2280c028",
   "metadata": {},
   "outputs": [
    {
     "data": {
      "text/plain": [
       "pet-owner        26182942\n",
       "non-pet-owner     6223099\n",
       "Name: pet_owners, dtype: int64"
      ]
     },
     "execution_count": 70,
     "metadata": {},
     "output_type": "execute_result"
    }
   ],
   "source": [
    "df['pet_owners'].value_counts(dropna = False)"
   ]
  },
  {
   "cell_type": "code",
   "execution_count": 71,
   "id": "d9af67ec",
   "metadata": {},
   "outputs": [
    {
     "data": {
      "image/png": "[encoded data removed]",
      "text/plain": [
       "<Figure size 640x480 with 1 Axes>"
      ]
     },
     "metadata": {},
     "output_type": "display_data"
    }
   ],
   "source": [
    "bar_pet_owners = df['pet_owners'].value_counts().plot.bar(color = ['yellow'], ec = 'black')"
   ]
  },
  {
   "cell_type": "code",
   "execution_count": 72,
   "id": "e6b8e68e",
   "metadata": {},
   "outputs": [],
   "source": [
    "bar_pet_owners.figure.savefig(os.path.join(path, '04 Analysis', 'Visualizations', 'pet_owners_bar.png'))"
   ]
  },
  {
   "cell_type": "code",
   "execution_count": 73,
   "id": "2c311560",
   "metadata": {},
   "outputs": [],
   "source": [
    "# creating and assingning flags for vegans and vegetarians"
   ]
  },
  {
   "cell_type": "code",
   "execution_count": 74,
   "id": "51ccf6b3",
   "metadata": {},
   "outputs": [],
   "source": [
    "vege_dict = dict()\n",
    "for user in user_dep_crosstab:\n",
    "    workinglist = user_dep_crosstab[user].tolist()\n",
    "    if workinglist[12] == 0 and workinglist[16] == 0:  \n",
    "        vege_dict[user] = 'vegan'\n",
    "    elif workinglist[11] == 0:\n",
    "        vege_dict[user] = 'vegetarian'\n",
    "    else:\n",
    "        vege_dict[user] = 'meat-eater'"
   ]
  },
  {
   "cell_type": "code",
   "execution_count": 75,
   "id": "d3a863ef",
   "metadata": {},
   "outputs": [],
   "source": [
    "vege_flag = []\n",
    "for user in df['user_id']:\n",
    "    vege_flag.append(vege_dict[user])"
   ]
  },
  {
   "cell_type": "code",
   "execution_count": 76,
   "id": "3e073b86",
   "metadata": {},
   "outputs": [],
   "source": [
    "df['vege'] = vege_flag"
   ]
  },
  {
   "cell_type": "code",
   "execution_count": 77,
   "id": "70d0ddae",
   "metadata": {},
   "outputs": [
    {
     "data": {
      "text/plain": [
       "meat-eater    23507940\n",
       "vegetarian     8089011\n",
       "vegan           809090\n",
       "Name: vege, dtype: int64"
      ]
     },
     "execution_count": 77,
     "metadata": {},
     "output_type": "execute_result"
    }
   ],
   "source": [
    "df['vege'].value_counts(dropna = False)"
   ]
  },
  {
   "cell_type": "code",
   "execution_count": 78,
   "id": "4949429e",
   "metadata": {},
   "outputs": [
    {
     "data": {
      "image/png": "[encoded data removed]",
      "text/plain": [
       "<Figure size 640x480 with 1 Axes>"
      ]
     },
     "metadata": {},
     "output_type": "display_data"
    }
   ],
   "source": [
    "bar_vege = df['vege'].value_counts().plot.bar(color = ['yellow'], ec = 'black')"
   ]
  },
  {
   "cell_type": "code",
   "execution_count": 79,
   "id": "152cfc2e",
   "metadata": {},
   "outputs": [],
   "source": [
    "bar_vege.figure.savefig(os.path.join(path, '04 Analysis', 'Visualizations', 'vege_bar.png'))"
   ]
  },
  {
   "cell_type": "markdown",
   "id": "0a6da9eb",
   "metadata": {},
   "source": [
    "# max, mean, and min variables on a customer-profile (step 7)"
   ]
  },
  {
   "cell_type": "code",
   "execution_count": 80,
   "id": "fe41345f",
   "metadata": {},
   "outputs": [
    {
     "data": {
      "text/html": [
       "<div>\n",
       "<style scoped>\n",
       "    .dataframe tbody tr th:only-of-type {\n",
       "        vertical-align: middle;\n",
       "    }\n",
       "\n",
       "    .dataframe tbody tr th {\n",
       "        vertical-align: top;\n",
       "    }\n",
       "\n",
       "    .dataframe thead tr th {\n",
       "        text-align: left;\n",
       "    }\n",
       "\n",
       "    .dataframe thead tr:last-of-type th {\n",
       "        text-align: right;\n",
       "    }\n",
       "</style>\n",
       "<table border=\"1\" class=\"dataframe\">\n",
       "  <thead>\n",
       "    <tr>\n",
       "      <th></th>\n",
       "      <th colspan=\"3\" halign=\"left\">days_since_prior_order</th>\n",
       "      <th colspan=\"3\" halign=\"left\">prices</th>\n",
       "    </tr>\n",
       "    <tr>\n",
       "      <th></th>\n",
       "      <th>mean</th>\n",
       "      <th>max</th>\n",
       "      <th>min</th>\n",
       "      <th>mean</th>\n",
       "      <th>max</th>\n",
       "      <th>min</th>\n",
       "    </tr>\n",
       "    <tr>\n",
       "      <th>age_profile</th>\n",
       "      <th></th>\n",
       "      <th></th>\n",
       "      <th></th>\n",
       "      <th></th>\n",
       "      <th></th>\n",
       "      <th></th>\n",
       "    </tr>\n",
       "  </thead>\n",
       "  <tbody>\n",
       "    <tr>\n",
       "      <th>30-to-60</th>\n",
       "      <td>11.114539</td>\n",
       "      <td>30.0</td>\n",
       "      <td>0.0</td>\n",
       "      <td>11.996146</td>\n",
       "      <td>99999.0</td>\n",
       "      <td>1.0</td>\n",
       "    </tr>\n",
       "    <tr>\n",
       "      <th>below-30</th>\n",
       "      <td>11.113214</td>\n",
       "      <td>30.0</td>\n",
       "      <td>0.0</td>\n",
       "      <td>12.171756</td>\n",
       "      <td>99999.0</td>\n",
       "      <td>1.0</td>\n",
       "    </tr>\n",
       "    <tr>\n",
       "      <th>over-60</th>\n",
       "      <td>11.083335</td>\n",
       "      <td>30.0</td>\n",
       "      <td>0.0</td>\n",
       "      <td>11.845765</td>\n",
       "      <td>99999.0</td>\n",
       "      <td>1.0</td>\n",
       "    </tr>\n",
       "  </tbody>\n",
       "</table>\n",
       "</div>"
      ],
      "text/plain": [
       "            days_since_prior_order                prices              \n",
       "                              mean   max  min       mean      max  min\n",
       "age_profile                                                           \n",
       "30-to-60                 11.114539  30.0  0.0  11.996146  99999.0  1.0\n",
       "below-30                 11.113214  30.0  0.0  12.171756  99999.0  1.0\n",
       "over-60                  11.083335  30.0  0.0  11.845765  99999.0  1.0"
      ]
     },
     "execution_count": 80,
     "metadata": {},
     "output_type": "execute_result"
    }
   ],
   "source": [
    "# statistics for age\n",
    "df.groupby('age_profile').agg({'days_since_prior_order': ['mean', 'max', 'min'], 'prices': ['mean', 'max', 'min']})"
   ]
  },
  {
   "cell_type": "code",
   "execution_count": 81,
   "id": "06024459",
   "metadata": {},
   "outputs": [
    {
     "data": {
      "text/html": [
       "<div>\n",
       "<style scoped>\n",
       "    .dataframe tbody tr th:only-of-type {\n",
       "        vertical-align: middle;\n",
       "    }\n",
       "\n",
       "    .dataframe tbody tr th {\n",
       "        vertical-align: top;\n",
       "    }\n",
       "\n",
       "    .dataframe thead tr th {\n",
       "        text-align: left;\n",
       "    }\n",
       "\n",
       "    .dataframe thead tr:last-of-type th {\n",
       "        text-align: right;\n",
       "    }\n",
       "</style>\n",
       "<table border=\"1\" class=\"dataframe\">\n",
       "  <thead>\n",
       "    <tr>\n",
       "      <th></th>\n",
       "      <th colspan=\"3\" halign=\"left\">days_since_prior_order</th>\n",
       "      <th colspan=\"3\" halign=\"left\">prices</th>\n",
       "    </tr>\n",
       "    <tr>\n",
       "      <th></th>\n",
       "      <th>mean</th>\n",
       "      <th>max</th>\n",
       "      <th>min</th>\n",
       "      <th>mean</th>\n",
       "      <th>max</th>\n",
       "      <th>min</th>\n",
       "    </tr>\n",
       "    <tr>\n",
       "      <th>income_profile</th>\n",
       "      <th></th>\n",
       "      <th></th>\n",
       "      <th></th>\n",
       "      <th></th>\n",
       "      <th></th>\n",
       "      <th></th>\n",
       "    </tr>\n",
       "  </thead>\n",
       "  <tbody>\n",
       "    <tr>\n",
       "      <th>75k-to-125k</th>\n",
       "      <td>11.049464</td>\n",
       "      <td>30.0</td>\n",
       "      <td>0.0</td>\n",
       "      <td>9.468776</td>\n",
       "      <td>99999.0</td>\n",
       "      <td>1.0</td>\n",
       "    </tr>\n",
       "    <tr>\n",
       "      <th>below-75k</th>\n",
       "      <td>11.240516</td>\n",
       "      <td>30.0</td>\n",
       "      <td>0.0</td>\n",
       "      <td>7.443262</td>\n",
       "      <td>14900.0</td>\n",
       "      <td>1.0</td>\n",
       "    </tr>\n",
       "    <tr>\n",
       "      <th>over-125k</th>\n",
       "      <td>11.024127</td>\n",
       "      <td>30.0</td>\n",
       "      <td>0.0</td>\n",
       "      <td>21.348031</td>\n",
       "      <td>99999.0</td>\n",
       "      <td>1.0</td>\n",
       "    </tr>\n",
       "  </tbody>\n",
       "</table>\n",
       "</div>"
      ],
      "text/plain": [
       "               days_since_prior_order                prices              \n",
       "                                 mean   max  min       mean      max  min\n",
       "income_profile                                                           \n",
       "75k-to-125k                 11.049464  30.0  0.0   9.468776  99999.0  1.0\n",
       "below-75k                   11.240516  30.0  0.0   7.443262  14900.0  1.0\n",
       "over-125k                   11.024127  30.0  0.0  21.348031  99999.0  1.0"
      ]
     },
     "execution_count": 81,
     "metadata": {},
     "output_type": "execute_result"
    }
   ],
   "source": [
    "# statistics for income\n",
    "\n",
    "df.groupby('income_profile').agg({'days_since_prior_order': ['mean', 'max', 'min'], 'prices': ['mean', 'max', 'min']})"
   ]
  },
  {
   "cell_type": "code",
   "execution_count": 82,
   "id": "cc7feaf7",
   "metadata": {},
   "outputs": [
    {
     "data": {
      "text/html": [
       "<div>\n",
       "<style scoped>\n",
       "    .dataframe tbody tr th:only-of-type {\n",
       "        vertical-align: middle;\n",
       "    }\n",
       "\n",
       "    .dataframe tbody tr th {\n",
       "        vertical-align: top;\n",
       "    }\n",
       "\n",
       "    .dataframe thead tr th {\n",
       "        text-align: left;\n",
       "    }\n",
       "\n",
       "    .dataframe thead tr:last-of-type th {\n",
       "        text-align: right;\n",
       "    }\n",
       "</style>\n",
       "<table border=\"1\" class=\"dataframe\">\n",
       "  <thead>\n",
       "    <tr>\n",
       "      <th></th>\n",
       "      <th colspan=\"3\" halign=\"left\">days_since_prior_order</th>\n",
       "      <th colspan=\"3\" halign=\"left\">prices</th>\n",
       "    </tr>\n",
       "    <tr>\n",
       "      <th></th>\n",
       "      <th>mean</th>\n",
       "      <th>max</th>\n",
       "      <th>min</th>\n",
       "      <th>mean</th>\n",
       "      <th>max</th>\n",
       "      <th>min</th>\n",
       "    </tr>\n",
       "    <tr>\n",
       "      <th>family_status</th>\n",
       "      <th></th>\n",
       "      <th></th>\n",
       "      <th></th>\n",
       "      <th></th>\n",
       "      <th></th>\n",
       "      <th></th>\n",
       "    </tr>\n",
       "  </thead>\n",
       "  <tbody>\n",
       "    <tr>\n",
       "      <th>divorced/widowed</th>\n",
       "      <td>11.047753</td>\n",
       "      <td>30.0</td>\n",
       "      <td>0.0</td>\n",
       "      <td>11.453515</td>\n",
       "      <td>99999.0</td>\n",
       "      <td>1.0</td>\n",
       "    </tr>\n",
       "    <tr>\n",
       "      <th>living with parents and siblings</th>\n",
       "      <td>11.048160</td>\n",
       "      <td>30.0</td>\n",
       "      <td>0.0</td>\n",
       "      <td>10.828673</td>\n",
       "      <td>99999.0</td>\n",
       "      <td>1.0</td>\n",
       "    </tr>\n",
       "    <tr>\n",
       "      <th>married</th>\n",
       "      <td>11.116199</td>\n",
       "      <td>30.0</td>\n",
       "      <td>0.0</td>\n",
       "      <td>12.005479</td>\n",
       "      <td>99999.0</td>\n",
       "      <td>1.0</td>\n",
       "    </tr>\n",
       "    <tr>\n",
       "      <th>single</th>\n",
       "      <td>11.098031</td>\n",
       "      <td>30.0</td>\n",
       "      <td>0.0</td>\n",
       "      <td>12.480594</td>\n",
       "      <td>99999.0</td>\n",
       "      <td>1.0</td>\n",
       "    </tr>\n",
       "  </tbody>\n",
       "</table>\n",
       "</div>"
      ],
      "text/plain": [
       "                                 days_since_prior_order                prices  \\\n",
       "                                                   mean   max  min       mean   \n",
       "family_status                                                                   \n",
       "divorced/widowed                              11.047753  30.0  0.0  11.453515   \n",
       "living with parents and siblings              11.048160  30.0  0.0  10.828673   \n",
       "married                                       11.116199  30.0  0.0  12.005479   \n",
       "single                                        11.098031  30.0  0.0  12.480594   \n",
       "\n",
       "                                                \n",
       "                                      max  min  \n",
       "family_status                                   \n",
       "divorced/widowed                  99999.0  1.0  \n",
       "living with parents and siblings  99999.0  1.0  \n",
       "married                           99999.0  1.0  \n",
       "single                            99999.0  1.0  "
      ]
     },
     "execution_count": 82,
     "metadata": {},
     "output_type": "execute_result"
    }
   ],
   "source": [
    "# statistics for family status\n",
    "\n",
    "df.groupby('family_status').agg({'days_since_prior_order': ['mean', 'max', 'min'], 'prices': ['mean', 'max', 'min']})"
   ]
  },
  {
   "cell_type": "code",
   "execution_count": 83,
   "id": "0003f09d",
   "metadata": {},
   "outputs": [
    {
     "data": {
      "text/html": [
       "<div>\n",
       "<style scoped>\n",
       "    .dataframe tbody tr th:only-of-type {\n",
       "        vertical-align: middle;\n",
       "    }\n",
       "\n",
       "    .dataframe tbody tr th {\n",
       "        vertical-align: top;\n",
       "    }\n",
       "\n",
       "    .dataframe thead tr th {\n",
       "        text-align: left;\n",
       "    }\n",
       "\n",
       "    .dataframe thead tr:last-of-type th {\n",
       "        text-align: right;\n",
       "    }\n",
       "</style>\n",
       "<table border=\"1\" class=\"dataframe\">\n",
       "  <thead>\n",
       "    <tr>\n",
       "      <th></th>\n",
       "      <th colspan=\"3\" halign=\"left\">days_since_prior_order</th>\n",
       "      <th colspan=\"3\" halign=\"left\">prices</th>\n",
       "    </tr>\n",
       "    <tr>\n",
       "      <th></th>\n",
       "      <th>mean</th>\n",
       "      <th>max</th>\n",
       "      <th>min</th>\n",
       "      <th>mean</th>\n",
       "      <th>max</th>\n",
       "      <th>min</th>\n",
       "    </tr>\n",
       "    <tr>\n",
       "      <th>children</th>\n",
       "      <th></th>\n",
       "      <th></th>\n",
       "      <th></th>\n",
       "      <th></th>\n",
       "      <th></th>\n",
       "      <th></th>\n",
       "    </tr>\n",
       "  </thead>\n",
       "  <tbody>\n",
       "    <tr>\n",
       "      <th>no childern</th>\n",
       "      <td>11.080822</td>\n",
       "      <td>30.0</td>\n",
       "      <td>0.0</td>\n",
       "      <td>12.129022</td>\n",
       "      <td>99999.0</td>\n",
       "      <td>1.0</td>\n",
       "    </tr>\n",
       "    <tr>\n",
       "      <th>with childern</th>\n",
       "      <td>11.111857</td>\n",
       "      <td>30.0</td>\n",
       "      <td>0.0</td>\n",
       "      <td>11.930410</td>\n",
       "      <td>99999.0</td>\n",
       "      <td>1.0</td>\n",
       "    </tr>\n",
       "  </tbody>\n",
       "</table>\n",
       "</div>"
      ],
      "text/plain": [
       "              days_since_prior_order                prices              \n",
       "                                mean   max  min       mean      max  min\n",
       "children                                                                \n",
       "no childern                11.080822  30.0  0.0  12.129022  99999.0  1.0\n",
       "with childern              11.111857  30.0  0.0  11.930410  99999.0  1.0"
      ]
     },
     "execution_count": 83,
     "metadata": {},
     "output_type": "execute_result"
    }
   ],
   "source": [
    "# statistics for children\n",
    "\n",
    "df.groupby('children').agg({'days_since_prior_order': ['mean', 'max', 'min'], 'prices': ['mean', 'max', 'min']})"
   ]
  },
  {
   "cell_type": "code",
   "execution_count": 84,
   "id": "91365719",
   "metadata": {},
   "outputs": [
    {
     "data": {
      "text/html": [
       "<div>\n",
       "<style scoped>\n",
       "    .dataframe tbody tr th:only-of-type {\n",
       "        vertical-align: middle;\n",
       "    }\n",
       "\n",
       "    .dataframe tbody tr th {\n",
       "        vertical-align: top;\n",
       "    }\n",
       "\n",
       "    .dataframe thead tr th {\n",
       "        text-align: left;\n",
       "    }\n",
       "\n",
       "    .dataframe thead tr:last-of-type th {\n",
       "        text-align: right;\n",
       "    }\n",
       "</style>\n",
       "<table border=\"1\" class=\"dataframe\">\n",
       "  <thead>\n",
       "    <tr>\n",
       "      <th></th>\n",
       "      <th colspan=\"3\" halign=\"left\">days_since_prior_order</th>\n",
       "      <th colspan=\"3\" halign=\"left\">prices</th>\n",
       "    </tr>\n",
       "    <tr>\n",
       "      <th></th>\n",
       "      <th>mean</th>\n",
       "      <th>max</th>\n",
       "      <th>min</th>\n",
       "      <th>mean</th>\n",
       "      <th>max</th>\n",
       "      <th>min</th>\n",
       "    </tr>\n",
       "    <tr>\n",
       "      <th>baby_parents</th>\n",
       "      <th></th>\n",
       "      <th></th>\n",
       "      <th></th>\n",
       "      <th></th>\n",
       "      <th></th>\n",
       "      <th></th>\n",
       "    </tr>\n",
       "  </thead>\n",
       "  <tbody>\n",
       "    <tr>\n",
       "      <th>baby-parent</th>\n",
       "      <td>10.95044</td>\n",
       "      <td>30.0</td>\n",
       "      <td>0.0</td>\n",
       "      <td>11.965077</td>\n",
       "      <td>99999.0</td>\n",
       "      <td>1.0</td>\n",
       "    </tr>\n",
       "    <tr>\n",
       "      <th>non-baby-parent</th>\n",
       "      <td>14.77341</td>\n",
       "      <td>30.0</td>\n",
       "      <td>0.0</td>\n",
       "      <td>12.307395</td>\n",
       "      <td>99999.0</td>\n",
       "      <td>1.0</td>\n",
       "    </tr>\n",
       "  </tbody>\n",
       "</table>\n",
       "</div>"
      ],
      "text/plain": [
       "                days_since_prior_order                prices              \n",
       "                                  mean   max  min       mean      max  min\n",
       "baby_parents                                                              \n",
       "baby-parent                   10.95044  30.0  0.0  11.965077  99999.0  1.0\n",
       "non-baby-parent               14.77341  30.0  0.0  12.307395  99999.0  1.0"
      ]
     },
     "execution_count": 84,
     "metadata": {},
     "output_type": "execute_result"
    }
   ],
   "source": [
    "# statistics for baby parents\n",
    "\n",
    "df.groupby('baby_parents').agg({'days_since_prior_order': ['mean', 'max', 'min'], 'prices': ['mean', 'max', 'min']})"
   ]
  },
  {
   "cell_type": "code",
   "execution_count": 85,
   "id": "d7100557",
   "metadata": {},
   "outputs": [
    {
     "data": {
      "text/html": [
       "<div>\n",
       "<style scoped>\n",
       "    .dataframe tbody tr th:only-of-type {\n",
       "        vertical-align: middle;\n",
       "    }\n",
       "\n",
       "    .dataframe tbody tr th {\n",
       "        vertical-align: top;\n",
       "    }\n",
       "\n",
       "    .dataframe thead tr th {\n",
       "        text-align: left;\n",
       "    }\n",
       "\n",
       "    .dataframe thead tr:last-of-type th {\n",
       "        text-align: right;\n",
       "    }\n",
       "</style>\n",
       "<table border=\"1\" class=\"dataframe\">\n",
       "  <thead>\n",
       "    <tr>\n",
       "      <th></th>\n",
       "      <th colspan=\"3\" halign=\"left\">days_since_prior_order</th>\n",
       "      <th colspan=\"3\" halign=\"left\">prices</th>\n",
       "    </tr>\n",
       "    <tr>\n",
       "      <th></th>\n",
       "      <th>mean</th>\n",
       "      <th>max</th>\n",
       "      <th>min</th>\n",
       "      <th>mean</th>\n",
       "      <th>max</th>\n",
       "      <th>min</th>\n",
       "    </tr>\n",
       "    <tr>\n",
       "      <th>abstinence</th>\n",
       "      <th></th>\n",
       "      <th></th>\n",
       "      <th></th>\n",
       "      <th></th>\n",
       "      <th></th>\n",
       "      <th></th>\n",
       "    </tr>\n",
       "  </thead>\n",
       "  <tbody>\n",
       "    <tr>\n",
       "      <th>abstinent</th>\n",
       "      <td>12.631409</td>\n",
       "      <td>30.0</td>\n",
       "      <td>0.0</td>\n",
       "      <td>12.617826</td>\n",
       "      <td>99999.0</td>\n",
       "      <td>1.0</td>\n",
       "    </tr>\n",
       "    <tr>\n",
       "      <th>non-abstinent</th>\n",
       "      <td>10.137818</td>\n",
       "      <td>30.0</td>\n",
       "      <td>0.0</td>\n",
       "      <td>11.560124</td>\n",
       "      <td>99999.0</td>\n",
       "      <td>1.0</td>\n",
       "    </tr>\n",
       "  </tbody>\n",
       "</table>\n",
       "</div>"
      ],
      "text/plain": [
       "              days_since_prior_order                prices              \n",
       "                                mean   max  min       mean      max  min\n",
       "abstinence                                                              \n",
       "abstinent                  12.631409  30.0  0.0  12.617826  99999.0  1.0\n",
       "non-abstinent              10.137818  30.0  0.0  11.560124  99999.0  1.0"
      ]
     },
     "execution_count": 85,
     "metadata": {},
     "output_type": "execute_result"
    }
   ],
   "source": [
    "# statistics for abstinence\n",
    "\n",
    "df.groupby('abstinence').agg({'days_since_prior_order': ['mean', 'max', 'min'], 'prices': ['mean', 'max', 'min']})"
   ]
  },
  {
   "cell_type": "code",
   "execution_count": 86,
   "id": "99af62e0",
   "metadata": {},
   "outputs": [
    {
     "data": {
      "text/html": [
       "<div>\n",
       "<style scoped>\n",
       "    .dataframe tbody tr th:only-of-type {\n",
       "        vertical-align: middle;\n",
       "    }\n",
       "\n",
       "    .dataframe tbody tr th {\n",
       "        vertical-align: top;\n",
       "    }\n",
       "\n",
       "    .dataframe thead tr th {\n",
       "        text-align: left;\n",
       "    }\n",
       "\n",
       "    .dataframe thead tr:last-of-type th {\n",
       "        text-align: right;\n",
       "    }\n",
       "</style>\n",
       "<table border=\"1\" class=\"dataframe\">\n",
       "  <thead>\n",
       "    <tr>\n",
       "      <th></th>\n",
       "      <th colspan=\"3\" halign=\"left\">days_since_prior_order</th>\n",
       "      <th colspan=\"3\" halign=\"left\">prices</th>\n",
       "    </tr>\n",
       "    <tr>\n",
       "      <th></th>\n",
       "      <th>mean</th>\n",
       "      <th>max</th>\n",
       "      <th>min</th>\n",
       "      <th>mean</th>\n",
       "      <th>max</th>\n",
       "      <th>min</th>\n",
       "    </tr>\n",
       "    <tr>\n",
       "      <th>pet_owners</th>\n",
       "      <th></th>\n",
       "      <th></th>\n",
       "      <th></th>\n",
       "      <th></th>\n",
       "      <th></th>\n",
       "      <th></th>\n",
       "    </tr>\n",
       "  </thead>\n",
       "  <tbody>\n",
       "    <tr>\n",
       "      <th>non-pet-owner</th>\n",
       "      <td>12.328063</td>\n",
       "      <td>30.0</td>\n",
       "      <td>0.0</td>\n",
       "      <td>12.770027</td>\n",
       "      <td>99999.0</td>\n",
       "      <td>1.0</td>\n",
       "    </tr>\n",
       "    <tr>\n",
       "      <th>pet-owner</th>\n",
       "      <td>10.823496</td>\n",
       "      <td>30.0</td>\n",
       "      <td>0.0</td>\n",
       "      <td>11.792278</td>\n",
       "      <td>99999.0</td>\n",
       "      <td>1.0</td>\n",
       "    </tr>\n",
       "  </tbody>\n",
       "</table>\n",
       "</div>"
      ],
      "text/plain": [
       "              days_since_prior_order                prices              \n",
       "                                mean   max  min       mean      max  min\n",
       "pet_owners                                                              \n",
       "non-pet-owner              12.328063  30.0  0.0  12.770027  99999.0  1.0\n",
       "pet-owner                  10.823496  30.0  0.0  11.792278  99999.0  1.0"
      ]
     },
     "execution_count": 86,
     "metadata": {},
     "output_type": "execute_result"
    }
   ],
   "source": [
    "# statistics for pet owners\n",
    "\n",
    "df.groupby('pet_owners').agg({'days_since_prior_order': ['mean', 'max', 'min'], 'prices': ['mean', 'max', 'min']})"
   ]
  },
  {
   "cell_type": "code",
   "execution_count": 87,
   "id": "4ebfe194",
   "metadata": {},
   "outputs": [
    {
     "data": {
      "text/html": [
       "<div>\n",
       "<style scoped>\n",
       "    .dataframe tbody tr th:only-of-type {\n",
       "        vertical-align: middle;\n",
       "    }\n",
       "\n",
       "    .dataframe tbody tr th {\n",
       "        vertical-align: top;\n",
       "    }\n",
       "\n",
       "    .dataframe thead tr th {\n",
       "        text-align: left;\n",
       "    }\n",
       "\n",
       "    .dataframe thead tr:last-of-type th {\n",
       "        text-align: right;\n",
       "    }\n",
       "</style>\n",
       "<table border=\"1\" class=\"dataframe\">\n",
       "  <thead>\n",
       "    <tr>\n",
       "      <th></th>\n",
       "      <th colspan=\"3\" halign=\"left\">days_since_prior_order</th>\n",
       "      <th colspan=\"3\" halign=\"left\">prices</th>\n",
       "    </tr>\n",
       "    <tr>\n",
       "      <th></th>\n",
       "      <th>mean</th>\n",
       "      <th>max</th>\n",
       "      <th>min</th>\n",
       "      <th>mean</th>\n",
       "      <th>max</th>\n",
       "      <th>min</th>\n",
       "    </tr>\n",
       "    <tr>\n",
       "      <th>vege</th>\n",
       "      <th></th>\n",
       "      <th></th>\n",
       "      <th></th>\n",
       "      <th></th>\n",
       "      <th></th>\n",
       "      <th></th>\n",
       "    </tr>\n",
       "  </thead>\n",
       "  <tbody>\n",
       "    <tr>\n",
       "      <th>meat-eater</th>\n",
       "      <td>10.705621</td>\n",
       "      <td>30.0</td>\n",
       "      <td>0.0</td>\n",
       "      <td>12.044825</td>\n",
       "      <td>99999.0</td>\n",
       "      <td>1.0</td>\n",
       "    </tr>\n",
       "    <tr>\n",
       "      <th>vegan</th>\n",
       "      <td>15.299204</td>\n",
       "      <td>30.0</td>\n",
       "      <td>0.0</td>\n",
       "      <td>11.007857</td>\n",
       "      <td>99999.0</td>\n",
       "      <td>1.0</td>\n",
       "    </tr>\n",
       "    <tr>\n",
       "      <th>vegetarian</th>\n",
       "      <td>11.906303</td>\n",
       "      <td>30.0</td>\n",
       "      <td>0.0</td>\n",
       "      <td>11.889006</td>\n",
       "      <td>99999.0</td>\n",
       "      <td>1.0</td>\n",
       "    </tr>\n",
       "  </tbody>\n",
       "</table>\n",
       "</div>"
      ],
      "text/plain": [
       "           days_since_prior_order                prices              \n",
       "                             mean   max  min       mean      max  min\n",
       "vege                                                                 \n",
       "meat-eater              10.705621  30.0  0.0  12.044825  99999.0  1.0\n",
       "vegan                   15.299204  30.0  0.0  11.007857  99999.0  1.0\n",
       "vegetarian              11.906303  30.0  0.0  11.889006  99999.0  1.0"
      ]
     },
     "execution_count": 87,
     "metadata": {},
     "output_type": "execute_result"
    }
   ],
   "source": [
    "# statistics for vege preferences \n",
    "df.groupby('vege').agg({'days_since_prior_order': ['mean', 'max', 'min'], 'prices': ['mean', 'max', 'min']})"
   ]
  },
  {
   "cell_type": "code",
   "execution_count": 88,
   "id": "652d386e",
   "metadata": {},
   "outputs": [],
   "source": [
    "# Creating crosstab between age profile and order day of week \n",
    "\n",
    "age_odow_crosstab = pd.crosstab(df['age_profile'], df['order_day_of_week'], dropna = False)"
   ]
  },
  {
   "cell_type": "code",
   "execution_count": 89,
   "id": "301f822f",
   "metadata": {},
   "outputs": [
    {
     "data": {
      "text/html": [
       "<div>\n",
       "<style scoped>\n",
       "    .dataframe tbody tr th:only-of-type {\n",
       "        vertical-align: middle;\n",
       "    }\n",
       "\n",
       "    .dataframe tbody tr th {\n",
       "        vertical-align: top;\n",
       "    }\n",
       "\n",
       "    .dataframe thead th {\n",
       "        text-align: right;\n",
       "    }\n",
       "</style>\n",
       "<table border=\"1\" class=\"dataframe\">\n",
       "  <thead>\n",
       "    <tr style=\"text-align: right;\">\n",
       "      <th>order_day_of_week</th>\n",
       "      <th>0</th>\n",
       "      <th>1</th>\n",
       "      <th>2</th>\n",
       "      <th>3</th>\n",
       "      <th>4</th>\n",
       "      <th>5</th>\n",
       "      <th>6</th>\n",
       "    </tr>\n",
       "    <tr>\n",
       "      <th>age_profile</th>\n",
       "      <th></th>\n",
       "      <th></th>\n",
       "      <th></th>\n",
       "      <th></th>\n",
       "      <th></th>\n",
       "      <th></th>\n",
       "      <th></th>\n",
       "    </tr>\n",
       "  </thead>\n",
       "  <tbody>\n",
       "    <tr>\n",
       "      <th>30-to-60</th>\n",
       "      <td>3014628</td>\n",
       "      <td>2754270</td>\n",
       "      <td>2050220</td>\n",
       "      <td>1862206</td>\n",
       "      <td>1840016</td>\n",
       "      <td>2038028</td>\n",
       "      <td>2172785</td>\n",
       "    </tr>\n",
       "    <tr>\n",
       "      <th>below-30</th>\n",
       "      <td>1167161</td>\n",
       "      <td>1068537</td>\n",
       "      <td>788849</td>\n",
       "      <td>716003</td>\n",
       "      <td>710709</td>\n",
       "      <td>792232</td>\n",
       "      <td>847206</td>\n",
       "    </tr>\n",
       "    <tr>\n",
       "      <th>over-60</th>\n",
       "      <td>2022615</td>\n",
       "      <td>1837649</td>\n",
       "      <td>1374917</td>\n",
       "      <td>1262492</td>\n",
       "      <td>1233228</td>\n",
       "      <td>1375646</td>\n",
       "      <td>1476644</td>\n",
       "    </tr>\n",
       "  </tbody>\n",
       "</table>\n",
       "</div>"
      ],
      "text/plain": [
       "order_day_of_week        0        1        2        3        4        5  \\\n",
       "age_profile                                                               \n",
       "30-to-60           3014628  2754270  2050220  1862206  1840016  2038028   \n",
       "below-30           1167161  1068537   788849   716003   710709   792232   \n",
       "over-60            2022615  1837649  1374917  1262492  1233228  1375646   \n",
       "\n",
       "order_day_of_week        6  \n",
       "age_profile                 \n",
       "30-to-60           2172785  \n",
       "below-30            847206  \n",
       "over-60            1476644  "
      ]
     },
     "execution_count": 89,
     "metadata": {},
     "output_type": "execute_result"
    }
   ],
   "source": [
    "age_odow_crosstab"
   ]
  },
  {
   "cell_type": "code",
   "execution_count": null,
   "id": "2a282c87",
   "metadata": {},
   "outputs": [],
   "source": []
  },
  {
   "cell_type": "markdown",
   "id": "b0e38d2f",
   "metadata": {},
   "source": [
    "# comparing your customer profiles with regions and departments (step 8)"
   ]
  },
  {
   "cell_type": "markdown",
   "id": "6ab5bf0f",
   "metadata": {},
   "source": [
    "crossing age with department and region"
   ]
  },
  {
   "cell_type": "code",
   "execution_count": 191,
   "id": "09480174",
   "metadata": {},
   "outputs": [],
   "source": [
    "age_department_cross = pd.crosstab(df['department_id'], df['age_profile'], normalize = 'index')   "
   ]
  },
  {
   "cell_type": "code",
   "execution_count": 192,
   "id": "4649296f",
   "metadata": {},
   "outputs": [
    {
     "data": {
      "text/html": [
       "<div>\n",
       "<style scoped>\n",
       "    .dataframe tbody tr th:only-of-type {\n",
       "        vertical-align: middle;\n",
       "    }\n",
       "\n",
       "    .dataframe tbody tr th {\n",
       "        vertical-align: top;\n",
       "    }\n",
       "\n",
       "    .dataframe thead th {\n",
       "        text-align: right;\n",
       "    }\n",
       "</style>\n",
       "<table border=\"1\" class=\"dataframe\">\n",
       "  <thead>\n",
       "    <tr style=\"text-align: right;\">\n",
       "      <th>age_profile</th>\n",
       "      <th>30-to-60</th>\n",
       "      <th>below-30</th>\n",
       "      <th>over-60</th>\n",
       "    </tr>\n",
       "    <tr>\n",
       "      <th>department_id</th>\n",
       "      <th></th>\n",
       "      <th></th>\n",
       "      <th></th>\n",
       "    </tr>\n",
       "  </thead>\n",
       "  <tbody>\n",
       "    <tr>\n",
       "      <th>1</th>\n",
       "      <td>0.483710</td>\n",
       "      <td>0.187723</td>\n",
       "      <td>0.328567</td>\n",
       "    </tr>\n",
       "    <tr>\n",
       "      <th>2</th>\n",
       "      <td>0.480174</td>\n",
       "      <td>0.197377</td>\n",
       "      <td>0.322449</td>\n",
       "    </tr>\n",
       "    <tr>\n",
       "      <th>3</th>\n",
       "      <td>0.485625</td>\n",
       "      <td>0.187949</td>\n",
       "      <td>0.326426</td>\n",
       "    </tr>\n",
       "    <tr>\n",
       "      <th>4</th>\n",
       "      <td>0.486088</td>\n",
       "      <td>0.187240</td>\n",
       "      <td>0.326672</td>\n",
       "    </tr>\n",
       "    <tr>\n",
       "      <th>5</th>\n",
       "      <td>0.490442</td>\n",
       "      <td>0.193667</td>\n",
       "      <td>0.315891</td>\n",
       "    </tr>\n",
       "    <tr>\n",
       "      <th>6</th>\n",
       "      <td>0.486483</td>\n",
       "      <td>0.190627</td>\n",
       "      <td>0.322890</td>\n",
       "    </tr>\n",
       "    <tr>\n",
       "      <th>7</th>\n",
       "      <td>0.485685</td>\n",
       "      <td>0.185833</td>\n",
       "      <td>0.328482</td>\n",
       "    </tr>\n",
       "    <tr>\n",
       "      <th>8</th>\n",
       "      <td>0.475572</td>\n",
       "      <td>0.195618</td>\n",
       "      <td>0.328810</td>\n",
       "    </tr>\n",
       "    <tr>\n",
       "      <th>9</th>\n",
       "      <td>0.484724</td>\n",
       "      <td>0.189732</td>\n",
       "      <td>0.325544</td>\n",
       "    </tr>\n",
       "    <tr>\n",
       "      <th>10</th>\n",
       "      <td>0.482342</td>\n",
       "      <td>0.191074</td>\n",
       "      <td>0.326584</td>\n",
       "    </tr>\n",
       "    <tr>\n",
       "      <th>11</th>\n",
       "      <td>0.488496</td>\n",
       "      <td>0.187075</td>\n",
       "      <td>0.324429</td>\n",
       "    </tr>\n",
       "    <tr>\n",
       "      <th>12</th>\n",
       "      <td>0.483099</td>\n",
       "      <td>0.187464</td>\n",
       "      <td>0.329437</td>\n",
       "    </tr>\n",
       "    <tr>\n",
       "      <th>13</th>\n",
       "      <td>0.485907</td>\n",
       "      <td>0.187595</td>\n",
       "      <td>0.326498</td>\n",
       "    </tr>\n",
       "    <tr>\n",
       "      <th>14</th>\n",
       "      <td>0.484503</td>\n",
       "      <td>0.191059</td>\n",
       "      <td>0.324437</td>\n",
       "    </tr>\n",
       "    <tr>\n",
       "      <th>15</th>\n",
       "      <td>0.484325</td>\n",
       "      <td>0.190010</td>\n",
       "      <td>0.325665</td>\n",
       "    </tr>\n",
       "    <tr>\n",
       "      <th>16</th>\n",
       "      <td>0.485434</td>\n",
       "      <td>0.188562</td>\n",
       "      <td>0.326004</td>\n",
       "    </tr>\n",
       "    <tr>\n",
       "      <th>17</th>\n",
       "      <td>0.484613</td>\n",
       "      <td>0.186574</td>\n",
       "      <td>0.328813</td>\n",
       "    </tr>\n",
       "    <tr>\n",
       "      <th>18</th>\n",
       "      <td>0.486817</td>\n",
       "      <td>0.189862</td>\n",
       "      <td>0.323321</td>\n",
       "    </tr>\n",
       "    <tr>\n",
       "      <th>19</th>\n",
       "      <td>0.485747</td>\n",
       "      <td>0.188712</td>\n",
       "      <td>0.325541</td>\n",
       "    </tr>\n",
       "    <tr>\n",
       "      <th>20</th>\n",
       "      <td>0.484589</td>\n",
       "      <td>0.187809</td>\n",
       "      <td>0.327602</td>\n",
       "    </tr>\n",
       "    <tr>\n",
       "      <th>21</th>\n",
       "      <td>0.485097</td>\n",
       "      <td>0.194186</td>\n",
       "      <td>0.320717</td>\n",
       "    </tr>\n",
       "  </tbody>\n",
       "</table>\n",
       "</div>"
      ],
      "text/plain": [
       "age_profile    30-to-60  below-30   over-60\n",
       "department_id                              \n",
       "1              0.483710  0.187723  0.328567\n",
       "2              0.480174  0.197377  0.322449\n",
       "3              0.485625  0.187949  0.326426\n",
       "4              0.486088  0.187240  0.326672\n",
       "5              0.490442  0.193667  0.315891\n",
       "6              0.486483  0.190627  0.322890\n",
       "7              0.485685  0.185833  0.328482\n",
       "8              0.475572  0.195618  0.328810\n",
       "9              0.484724  0.189732  0.325544\n",
       "10             0.482342  0.191074  0.326584\n",
       "11             0.488496  0.187075  0.324429\n",
       "12             0.483099  0.187464  0.329437\n",
       "13             0.485907  0.187595  0.326498\n",
       "14             0.484503  0.191059  0.324437\n",
       "15             0.484325  0.190010  0.325665\n",
       "16             0.485434  0.188562  0.326004\n",
       "17             0.484613  0.186574  0.328813\n",
       "18             0.486817  0.189862  0.323321\n",
       "19             0.485747  0.188712  0.325541\n",
       "20             0.484589  0.187809  0.327602\n",
       "21             0.485097  0.194186  0.320717"
      ]
     },
     "execution_count": 192,
     "metadata": {},
     "output_type": "execute_result"
    }
   ],
   "source": [
    "age_department_cross"
   ]
  },
  {
   "cell_type": "code",
   "execution_count": 194,
   "id": "72d28659",
   "metadata": {},
   "outputs": [
    {
     "data": {
      "image/png": "[encoded data removed]",
      "text/plain": [
       "<Figure size 640x480 with 1 Axes>"
      ]
     },
     "metadata": {},
     "output_type": "display_data"
    }
   ],
   "source": [
    "age_department_bar = age_department_cross.plot.bar(color = ['darkred','coral','pink'], ec= ['black'], stacked = True)"
   ]
  },
  {
   "cell_type": "code",
   "execution_count": 92,
   "id": "bec3a29e",
   "metadata": {},
   "outputs": [],
   "source": [
    "age_region_cross = pd.crosstab(df['age_profile'], df['region'], normalize = 'columns')"
   ]
  },
  {
   "cell_type": "code",
   "execution_count": 127,
   "id": "a3d93cc3",
   "metadata": {},
   "outputs": [
    {
     "data": {
      "image/png": "[encoded data removed]",
      "text/plain": [
       "<Figure size 640x480 with 1 Axes>"
      ]
     },
     "metadata": {},
     "output_type": "display_data"
    }
   ],
   "source": [
    "age_region_bar = age_region_cross.plot.bar(color = ['navy','blue','green','greenyellow'], ec= ['black'])"
   ]
  },
  {
   "cell_type": "code",
   "execution_count": 195,
   "id": "4f182885",
   "metadata": {},
   "outputs": [],
   "source": [
    "age_department_bar.figure.savefig(os.path.join(path, '04 Analysis', 'Visualizations', 'age_department_bar.png'))"
   ]
  },
  {
   "cell_type": "code",
   "execution_count": 129,
   "id": "db2bee5e",
   "metadata": {},
   "outputs": [],
   "source": [
    "region_age_cross = pd.crosstab(df['region'], df['age_profile'], normalize = 'columns')"
   ]
  },
  {
   "cell_type": "code",
   "execution_count": 130,
   "id": "e657f154",
   "metadata": {},
   "outputs": [
    {
     "data": {
      "image/png": "[encoded data removed]",
      "text/plain": [
       "<Figure size 640x480 with 1 Axes>"
      ]
     },
     "metadata": {},
     "output_type": "display_data"
    }
   ],
   "source": [
    "region_age_bar = region_age_cross.plot.bar(color = ['darkred','coral','pink'], ec= ['black'])"
   ]
  },
  {
   "cell_type": "code",
   "execution_count": 210,
   "id": "99dabb77",
   "metadata": {},
   "outputs": [],
   "source": [
    "spending_age_cross = pd.crosstab(df['age_profile'], df['spending_flag'], normalize = 'columns')"
   ]
  },
  {
   "cell_type": "code",
   "execution_count": 212,
   "id": "f08aecb0",
   "metadata": {},
   "outputs": [
    {
     "data": {
      "image/png": "[encoded data removed]",
      "text/plain": [
       "<Figure size 640x480 with 1 Axes>"
      ]
     },
     "metadata": {},
     "output_type": "display_data"
    }
   ],
   "source": [
    "spending_age_bar = spending_age_cross.plot.bar(color = ['teal','skyblue'], ec= ['black'])"
   ]
  },
  {
   "cell_type": "code",
   "execution_count": 128,
   "id": "15dc79a4",
   "metadata": {},
   "outputs": [],
   "source": [
    "# exporting bar chart\n",
    "\n",
    "age_region_bar.figure.savefig(os.path.join(path, '04 Analysis', 'Visualizations', 'age_region_bar.png'))"
   ]
  },
  {
   "cell_type": "code",
   "execution_count": 217,
   "id": "9e857f8a",
   "metadata": {},
   "outputs": [],
   "source": [
    "age_department_bar.figure.savefig(os.path.join(path, '04 Analysis', 'Visualizations', 'age_department_bar.png'))"
   ]
  },
  {
   "cell_type": "code",
   "execution_count": 215,
   "id": "a718fb7c",
   "metadata": {},
   "outputs": [],
   "source": [
    "spending_age_bar.figure.savefig(os.path.join(path, '04 Analysis', 'Visualizations', 'spending_age_bar.png'))"
   ]
  },
  {
   "cell_type": "markdown",
   "id": "1d217f50",
   "metadata": {},
   "source": [
    "crossing income with region and department"
   ]
  },
  {
   "cell_type": "code",
   "execution_count": 136,
   "id": "40aa7e5c",
   "metadata": {},
   "outputs": [],
   "source": [
    "income_department_cross = pd.crosstab(df['income_profile'], df['department_id'], normalize = 'index')"
   ]
  },
  {
   "cell_type": "code",
   "execution_count": 98,
   "id": "f7a5b492",
   "metadata": {},
   "outputs": [
    {
     "data": {
      "text/html": [
       "<div>\n",
       "<style scoped>\n",
       "    .dataframe tbody tr th:only-of-type {\n",
       "        vertical-align: middle;\n",
       "    }\n",
       "\n",
       "    .dataframe tbody tr th {\n",
       "        vertical-align: top;\n",
       "    }\n",
       "\n",
       "    .dataframe thead th {\n",
       "        text-align: right;\n",
       "    }\n",
       "</style>\n",
       "<table border=\"1\" class=\"dataframe\">\n",
       "  <thead>\n",
       "    <tr style=\"text-align: right;\">\n",
       "      <th>department_id</th>\n",
       "      <th>1</th>\n",
       "      <th>2</th>\n",
       "      <th>3</th>\n",
       "      <th>4</th>\n",
       "      <th>5</th>\n",
       "      <th>6</th>\n",
       "      <th>7</th>\n",
       "      <th>8</th>\n",
       "      <th>9</th>\n",
       "      <th>10</th>\n",
       "      <th>...</th>\n",
       "      <th>12</th>\n",
       "      <th>13</th>\n",
       "      <th>14</th>\n",
       "      <th>15</th>\n",
       "      <th>16</th>\n",
       "      <th>17</th>\n",
       "      <th>18</th>\n",
       "      <th>19</th>\n",
       "      <th>20</th>\n",
       "      <th>21</th>\n",
       "    </tr>\n",
       "    <tr>\n",
       "      <th>income_profile</th>\n",
       "      <th></th>\n",
       "      <th></th>\n",
       "      <th></th>\n",
       "      <th></th>\n",
       "      <th></th>\n",
       "      <th></th>\n",
       "      <th></th>\n",
       "      <th></th>\n",
       "      <th></th>\n",
       "      <th></th>\n",
       "      <th></th>\n",
       "      <th></th>\n",
       "      <th></th>\n",
       "      <th></th>\n",
       "      <th></th>\n",
       "      <th></th>\n",
       "      <th></th>\n",
       "      <th></th>\n",
       "      <th></th>\n",
       "      <th></th>\n",
       "      <th></th>\n",
       "    </tr>\n",
       "  </thead>\n",
       "  <tbody>\n",
       "    <tr>\n",
       "      <th>75k-to-125k</th>\n",
       "      <td>0.069533</td>\n",
       "      <td>0.001122</td>\n",
       "      <td>0.036724</td>\n",
       "      <td>0.300358</td>\n",
       "      <td>0.004533</td>\n",
       "      <td>0.008610</td>\n",
       "      <td>0.078198</td>\n",
       "      <td>0.003031</td>\n",
       "      <td>0.027913</td>\n",
       "      <td>0.001042</td>\n",
       "      <td>...</td>\n",
       "      <td>0.023718</td>\n",
       "      <td>0.058999</td>\n",
       "      <td>0.020708</td>\n",
       "      <td>0.034154</td>\n",
       "      <td>0.169386</td>\n",
       "      <td>0.022111</td>\n",
       "      <td>0.014032</td>\n",
       "      <td>0.077373</td>\n",
       "      <td>0.032655</td>\n",
       "      <td>0.002116</td>\n",
       "    </tr>\n",
       "    <tr>\n",
       "      <th>below-75k</th>\n",
       "      <td>0.067227</td>\n",
       "      <td>0.001114</td>\n",
       "      <td>0.034504</td>\n",
       "      <td>0.279560</td>\n",
       "      <td>0.004614</td>\n",
       "      <td>0.007759</td>\n",
       "      <td>0.091738</td>\n",
       "      <td>0.002845</td>\n",
       "      <td>0.024467</td>\n",
       "      <td>0.001184</td>\n",
       "      <td>...</td>\n",
       "      <td>0.017991</td>\n",
       "      <td>0.055205</td>\n",
       "      <td>0.023572</td>\n",
       "      <td>0.030145</td>\n",
       "      <td>0.160877</td>\n",
       "      <td>0.023558</td>\n",
       "      <td>0.011447</td>\n",
       "      <td>0.113851</td>\n",
       "      <td>0.032204</td>\n",
       "      <td>0.002150</td>\n",
       "    </tr>\n",
       "    <tr>\n",
       "      <th>over-125k</th>\n",
       "      <td>0.070176</td>\n",
       "      <td>0.001124</td>\n",
       "      <td>0.037365</td>\n",
       "      <td>0.296080</td>\n",
       "      <td>0.005228</td>\n",
       "      <td>0.008508</td>\n",
       "      <td>0.079662</td>\n",
       "      <td>0.003198</td>\n",
       "      <td>0.027689</td>\n",
       "      <td>0.000964</td>\n",
       "      <td>...</td>\n",
       "      <td>0.023732</td>\n",
       "      <td>0.059355</td>\n",
       "      <td>0.021072</td>\n",
       "      <td>0.034517</td>\n",
       "      <td>0.169209</td>\n",
       "      <td>0.022925</td>\n",
       "      <td>0.013578</td>\n",
       "      <td>0.077287</td>\n",
       "      <td>0.032393</td>\n",
       "      <td>0.002141</td>\n",
       "    </tr>\n",
       "  </tbody>\n",
       "</table>\n",
       "<p>3 rows × 21 columns</p>\n",
       "</div>"
      ],
      "text/plain": [
       "department_id         1         2         3         4         5         6   \\\n",
       "income_profile                                                               \n",
       "75k-to-125k     0.069533  0.001122  0.036724  0.300358  0.004533  0.008610   \n",
       "below-75k       0.067227  0.001114  0.034504  0.279560  0.004614  0.007759   \n",
       "over-125k       0.070176  0.001124  0.037365  0.296080  0.005228  0.008508   \n",
       "\n",
       "department_id         7         8         9         10  ...        12  \\\n",
       "income_profile                                          ...             \n",
       "75k-to-125k     0.078198  0.003031  0.027913  0.001042  ...  0.023718   \n",
       "below-75k       0.091738  0.002845  0.024467  0.001184  ...  0.017991   \n",
       "over-125k       0.079662  0.003198  0.027689  0.000964  ...  0.023732   \n",
       "\n",
       "department_id         13        14        15        16        17        18  \\\n",
       "income_profile                                                               \n",
       "75k-to-125k     0.058999  0.020708  0.034154  0.169386  0.022111  0.014032   \n",
       "below-75k       0.055205  0.023572  0.030145  0.160877  0.023558  0.011447   \n",
       "over-125k       0.059355  0.021072  0.034517  0.169209  0.022925  0.013578   \n",
       "\n",
       "department_id         19        20        21  \n",
       "income_profile                                \n",
       "75k-to-125k     0.077373  0.032655  0.002116  \n",
       "below-75k       0.113851  0.032204  0.002150  \n",
       "over-125k       0.077287  0.032393  0.002141  \n",
       "\n",
       "[3 rows x 21 columns]"
      ]
     },
     "execution_count": 98,
     "metadata": {},
     "output_type": "execute_result"
    }
   ],
   "source": [
    "income_department_cross"
   ]
  },
  {
   "cell_type": "code",
   "execution_count": 99,
   "id": "7435105e",
   "metadata": {},
   "outputs": [],
   "source": [
    "income_region_cross = pd.crosstab(df['income_profile'], df['region'], normalize = 'columns')"
   ]
  },
  {
   "cell_type": "code",
   "execution_count": 100,
   "id": "f982ca9a",
   "metadata": {},
   "outputs": [
    {
     "data": {
      "image/png": "[encoded data removed]",
      "text/plain": [
       "<Figure size 640x480 with 1 Axes>"
      ]
     },
     "metadata": {},
     "output_type": "display_data"
    }
   ],
   "source": [
    "income_region_bar = income_region_cross.plot.bar(color = ['navy','blue','green','greenyellow'], ec= ['black'])"
   ]
  },
  {
   "cell_type": "code",
   "execution_count": 137,
   "id": "ce6f0c15",
   "metadata": {},
   "outputs": [],
   "source": [
    "region_income_cross = pd.crosstab(df['region'], df['income_profile'], normalize = 'columns')"
   ]
  },
  {
   "cell_type": "code",
   "execution_count": 138,
   "id": "8f0d7910",
   "metadata": {},
   "outputs": [
    {
     "data": {
      "image/png": "[encoded data removed]",
      "text/plain": [
       "<Figure size 640x480 with 1 Axes>"
      ]
     },
     "metadata": {},
     "output_type": "display_data"
    }
   ],
   "source": [
    "region_income_bar = region_income_cross.plot.bar(color = ['darkred','coral','pink'], ec= ['black'])"
   ]
  },
  {
   "cell_type": "code",
   "execution_count": 139,
   "id": "39f6c1ed",
   "metadata": {},
   "outputs": [],
   "source": [
    "# exporting bar chart\n",
    "\n",
    "income_region_bar.figure.savefig(os.path.join(path, '04 Analysis', 'Visualizations', 'income_region_bar.png'))"
   ]
  },
  {
   "cell_type": "code",
   "execution_count": 140,
   "id": "e06542a2",
   "metadata": {},
   "outputs": [],
   "source": [
    "region_income_bar.figure.savefig(os.path.join(path, '04 Analysis', 'Visualizations', 'region_income_bar.png'))"
   ]
  },
  {
   "cell_type": "markdown",
   "id": "60087a4c",
   "metadata": {},
   "source": [
    "crossing vege preferences with region and department"
   ]
  },
  {
   "cell_type": "code",
   "execution_count": 102,
   "id": "a52df41e",
   "metadata": {},
   "outputs": [],
   "source": [
    "vege_department_cross = pd.crosstab(df['vege'], df['department_id'], normalize = 'index') "
   ]
  },
  {
   "cell_type": "code",
   "execution_count": 103,
   "id": "704941dd",
   "metadata": {},
   "outputs": [
    {
     "data": {
      "text/html": [
       "<div>\n",
       "<style scoped>\n",
       "    .dataframe tbody tr th:only-of-type {\n",
       "        vertical-align: middle;\n",
       "    }\n",
       "\n",
       "    .dataframe tbody tr th {\n",
       "        vertical-align: top;\n",
       "    }\n",
       "\n",
       "    .dataframe thead th {\n",
       "        text-align: right;\n",
       "    }\n",
       "</style>\n",
       "<table border=\"1\" class=\"dataframe\">\n",
       "  <thead>\n",
       "    <tr style=\"text-align: right;\">\n",
       "      <th>department_id</th>\n",
       "      <th>1</th>\n",
       "      <th>2</th>\n",
       "      <th>3</th>\n",
       "      <th>4</th>\n",
       "      <th>5</th>\n",
       "      <th>6</th>\n",
       "      <th>7</th>\n",
       "      <th>8</th>\n",
       "      <th>9</th>\n",
       "      <th>10</th>\n",
       "      <th>...</th>\n",
       "      <th>12</th>\n",
       "      <th>13</th>\n",
       "      <th>14</th>\n",
       "      <th>15</th>\n",
       "      <th>16</th>\n",
       "      <th>17</th>\n",
       "      <th>18</th>\n",
       "      <th>19</th>\n",
       "      <th>20</th>\n",
       "      <th>21</th>\n",
       "    </tr>\n",
       "    <tr>\n",
       "      <th>vege</th>\n",
       "      <th></th>\n",
       "      <th></th>\n",
       "      <th></th>\n",
       "      <th></th>\n",
       "      <th></th>\n",
       "      <th></th>\n",
       "      <th></th>\n",
       "      <th></th>\n",
       "      <th></th>\n",
       "      <th></th>\n",
       "      <th></th>\n",
       "      <th></th>\n",
       "      <th></th>\n",
       "      <th></th>\n",
       "      <th></th>\n",
       "      <th></th>\n",
       "      <th></th>\n",
       "      <th></th>\n",
       "      <th></th>\n",
       "      <th></th>\n",
       "      <th></th>\n",
       "    </tr>\n",
       "  </thead>\n",
       "  <tbody>\n",
       "    <tr>\n",
       "      <th>meat-eater</th>\n",
       "      <td>0.069941</td>\n",
       "      <td>0.001030</td>\n",
       "      <td>0.037577</td>\n",
       "      <td>0.300348</td>\n",
       "      <td>0.003487</td>\n",
       "      <td>0.008678</td>\n",
       "      <td>0.071661</td>\n",
       "      <td>0.003045</td>\n",
       "      <td>0.029305</td>\n",
       "      <td>0.000955</td>\n",
       "      <td>...</td>\n",
       "      <td>0.029548</td>\n",
       "      <td>0.060086</td>\n",
       "      <td>0.020096</td>\n",
       "      <td>0.035650</td>\n",
       "      <td>0.166063</td>\n",
       "      <td>0.020931</td>\n",
       "      <td>0.014531</td>\n",
       "      <td>0.079553</td>\n",
       "      <td>0.032819</td>\n",
       "      <td>0.002064</td>\n",
       "    </tr>\n",
       "    <tr>\n",
       "      <th>vegan</th>\n",
       "      <td>0.068394</td>\n",
       "      <td>0.000959</td>\n",
       "      <td>0.029385</td>\n",
       "      <td>0.347843</td>\n",
       "      <td>0.013200</td>\n",
       "      <td>0.004556</td>\n",
       "      <td>0.122414</td>\n",
       "      <td>0.001285</td>\n",
       "      <td>0.016074</td>\n",
       "      <td>0.001437</td>\n",
       "      <td>...</td>\n",
       "      <td>0.017695</td>\n",
       "      <td>0.000000</td>\n",
       "      <td>0.021142</td>\n",
       "      <td>0.019282</td>\n",
       "      <td>0.170581</td>\n",
       "      <td>0.000000</td>\n",
       "      <td>0.008099</td>\n",
       "      <td>0.114435</td>\n",
       "      <td>0.032480</td>\n",
       "      <td>0.002446</td>\n",
       "    </tr>\n",
       "    <tr>\n",
       "      <th>vegetarian</th>\n",
       "      <td>0.066167</td>\n",
       "      <td>0.001397</td>\n",
       "      <td>0.032796</td>\n",
       "      <td>0.264221</td>\n",
       "      <td>0.007551</td>\n",
       "      <td>0.007611</td>\n",
       "      <td>0.111814</td>\n",
       "      <td>0.003102</td>\n",
       "      <td>0.020364</td>\n",
       "      <td>0.001355</td>\n",
       "      <td>...</td>\n",
       "      <td>0.000000</td>\n",
       "      <td>0.057222</td>\n",
       "      <td>0.026529</td>\n",
       "      <td>0.026504</td>\n",
       "      <td>0.167751</td>\n",
       "      <td>0.030489</td>\n",
       "      <td>0.009352</td>\n",
       "      <td>0.114332</td>\n",
       "      <td>0.031334</td>\n",
       "      <td>0.002304</td>\n",
       "    </tr>\n",
       "  </tbody>\n",
       "</table>\n",
       "<p>3 rows × 21 columns</p>\n",
       "</div>"
      ],
      "text/plain": [
       "department_id        1         2         3         4         5         6   \\\n",
       "vege                                                                        \n",
       "meat-eater     0.069941  0.001030  0.037577  0.300348  0.003487  0.008678   \n",
       "vegan          0.068394  0.000959  0.029385  0.347843  0.013200  0.004556   \n",
       "vegetarian     0.066167  0.001397  0.032796  0.264221  0.007551  0.007611   \n",
       "\n",
       "department_id        7         8         9         10  ...        12  \\\n",
       "vege                                                   ...             \n",
       "meat-eater     0.071661  0.003045  0.029305  0.000955  ...  0.029548   \n",
       "vegan          0.122414  0.001285  0.016074  0.001437  ...  0.017695   \n",
       "vegetarian     0.111814  0.003102  0.020364  0.001355  ...  0.000000   \n",
       "\n",
       "department_id        13        14        15        16        17        18  \\\n",
       "vege                                                                        \n",
       "meat-eater     0.060086  0.020096  0.035650  0.166063  0.020931  0.014531   \n",
       "vegan          0.000000  0.021142  0.019282  0.170581  0.000000  0.008099   \n",
       "vegetarian     0.057222  0.026529  0.026504  0.167751  0.030489  0.009352   \n",
       "\n",
       "department_id        19        20        21  \n",
       "vege                                         \n",
       "meat-eater     0.079553  0.032819  0.002064  \n",
       "vegan          0.114435  0.032480  0.002446  \n",
       "vegetarian     0.114332  0.031334  0.002304  \n",
       "\n",
       "[3 rows x 21 columns]"
      ]
     },
     "execution_count": 103,
     "metadata": {},
     "output_type": "execute_result"
    }
   ],
   "source": [
    "vege_department_cross"
   ]
  },
  {
   "cell_type": "code",
   "execution_count": 104,
   "id": "7c98d524",
   "metadata": {},
   "outputs": [],
   "source": [
    "vege_region_cross = pd.crosstab(df['vege'], df['region'], normalize = 'columns')"
   ]
  },
  {
   "cell_type": "code",
   "execution_count": 141,
   "id": "22d332a1",
   "metadata": {},
   "outputs": [
    {
     "data": {
      "image/png": "[encoded data removed]",
      "text/plain": [
       "<Figure size 640x480 with 1 Axes>"
      ]
     },
     "metadata": {},
     "output_type": "display_data"
    }
   ],
   "source": [
    "vege_region_bar = vege_region_cross.plot.bar(color = ['navy','blue','green','greenyellow'], ec= ['black'])"
   ]
  },
  {
   "cell_type": "code",
   "execution_count": 162,
   "id": "f0949dda",
   "metadata": {},
   "outputs": [],
   "source": [
    "# exporting bar chart\n",
    "\n",
    "vege_region_bar.figure.savefig(os.path.join(path, '04 Analysis', 'Visualizations', 'vege_region_bar.png'))"
   ]
  },
  {
   "cell_type": "markdown",
   "id": "06526567",
   "metadata": {},
   "source": [
    "crossing family status with region and department"
   ]
  },
  {
   "cell_type": "code",
   "execution_count": 107,
   "id": "12e83505",
   "metadata": {},
   "outputs": [],
   "source": [
    "family_stat_department_cross = pd.crosstab(df['family_status'], df['department_id'], normalize = 'index')   "
   ]
  },
  {
   "cell_type": "code",
   "execution_count": 108,
   "id": "b144f8ee",
   "metadata": {},
   "outputs": [
    {
     "data": {
      "text/html": [
       "<div>\n",
       "<style scoped>\n",
       "    .dataframe tbody tr th:only-of-type {\n",
       "        vertical-align: middle;\n",
       "    }\n",
       "\n",
       "    .dataframe tbody tr th {\n",
       "        vertical-align: top;\n",
       "    }\n",
       "\n",
       "    .dataframe thead th {\n",
       "        text-align: right;\n",
       "    }\n",
       "</style>\n",
       "<table border=\"1\" class=\"dataframe\">\n",
       "  <thead>\n",
       "    <tr style=\"text-align: right;\">\n",
       "      <th>department_id</th>\n",
       "      <th>1</th>\n",
       "      <th>2</th>\n",
       "      <th>3</th>\n",
       "      <th>4</th>\n",
       "      <th>5</th>\n",
       "      <th>6</th>\n",
       "      <th>7</th>\n",
       "      <th>8</th>\n",
       "      <th>9</th>\n",
       "      <th>10</th>\n",
       "      <th>...</th>\n",
       "      <th>12</th>\n",
       "      <th>13</th>\n",
       "      <th>14</th>\n",
       "      <th>15</th>\n",
       "      <th>16</th>\n",
       "      <th>17</th>\n",
       "      <th>18</th>\n",
       "      <th>19</th>\n",
       "      <th>20</th>\n",
       "      <th>21</th>\n",
       "    </tr>\n",
       "    <tr>\n",
       "      <th>family_status</th>\n",
       "      <th></th>\n",
       "      <th></th>\n",
       "      <th></th>\n",
       "      <th></th>\n",
       "      <th></th>\n",
       "      <th></th>\n",
       "      <th></th>\n",
       "      <th></th>\n",
       "      <th></th>\n",
       "      <th></th>\n",
       "      <th></th>\n",
       "      <th></th>\n",
       "      <th></th>\n",
       "      <th></th>\n",
       "      <th></th>\n",
       "      <th></th>\n",
       "      <th></th>\n",
       "      <th></th>\n",
       "      <th></th>\n",
       "      <th></th>\n",
       "      <th></th>\n",
       "    </tr>\n",
       "  </thead>\n",
       "  <tbody>\n",
       "    <tr>\n",
       "      <th>divorced/widowed</th>\n",
       "      <td>0.069834</td>\n",
       "      <td>0.001083</td>\n",
       "      <td>0.036221</td>\n",
       "      <td>0.293238</td>\n",
       "      <td>0.004558</td>\n",
       "      <td>0.008319</td>\n",
       "      <td>0.083345</td>\n",
       "      <td>0.003034</td>\n",
       "      <td>0.026776</td>\n",
       "      <td>0.000998</td>\n",
       "      <td>...</td>\n",
       "      <td>0.021818</td>\n",
       "      <td>0.057715</td>\n",
       "      <td>0.021498</td>\n",
       "      <td>0.032201</td>\n",
       "      <td>0.166639</td>\n",
       "      <td>0.022297</td>\n",
       "      <td>0.012744</td>\n",
       "      <td>0.089034</td>\n",
       "      <td>0.032764</td>\n",
       "      <td>0.001982</td>\n",
       "    </tr>\n",
       "    <tr>\n",
       "      <th>living with parents and siblings</th>\n",
       "      <td>0.069992</td>\n",
       "      <td>0.001232</td>\n",
       "      <td>0.036206</td>\n",
       "      <td>0.289963</td>\n",
       "      <td>0.005738</td>\n",
       "      <td>0.008431</td>\n",
       "      <td>0.080373</td>\n",
       "      <td>0.003624</td>\n",
       "      <td>0.026893</td>\n",
       "      <td>0.001080</td>\n",
       "      <td>...</td>\n",
       "      <td>0.021914</td>\n",
       "      <td>0.058216</td>\n",
       "      <td>0.022422</td>\n",
       "      <td>0.033012</td>\n",
       "      <td>0.168180</td>\n",
       "      <td>0.022717</td>\n",
       "      <td>0.012992</td>\n",
       "      <td>0.088456</td>\n",
       "      <td>0.032512</td>\n",
       "      <td>0.002303</td>\n",
       "    </tr>\n",
       "    <tr>\n",
       "      <th>married</th>\n",
       "      <td>0.068946</td>\n",
       "      <td>0.001108</td>\n",
       "      <td>0.036115</td>\n",
       "      <td>0.292396</td>\n",
       "      <td>0.004645</td>\n",
       "      <td>0.008281</td>\n",
       "      <td>0.083008</td>\n",
       "      <td>0.002967</td>\n",
       "      <td>0.026789</td>\n",
       "      <td>0.001082</td>\n",
       "      <td>...</td>\n",
       "      <td>0.022009</td>\n",
       "      <td>0.057930</td>\n",
       "      <td>0.021727</td>\n",
       "      <td>0.033045</td>\n",
       "      <td>0.166477</td>\n",
       "      <td>0.022967</td>\n",
       "      <td>0.013058</td>\n",
       "      <td>0.089183</td>\n",
       "      <td>0.032327</td>\n",
       "      <td>0.002131</td>\n",
       "    </tr>\n",
       "    <tr>\n",
       "      <th>single</th>\n",
       "      <td>0.068267</td>\n",
       "      <td>0.001159</td>\n",
       "      <td>0.036426</td>\n",
       "      <td>0.293397</td>\n",
       "      <td>0.004977</td>\n",
       "      <td>0.008384</td>\n",
       "      <td>0.083256</td>\n",
       "      <td>0.003037</td>\n",
       "      <td>0.026482</td>\n",
       "      <td>0.001035</td>\n",
       "      <td>...</td>\n",
       "      <td>0.021331</td>\n",
       "      <td>0.057600</td>\n",
       "      <td>0.021648</td>\n",
       "      <td>0.032967</td>\n",
       "      <td>0.166628</td>\n",
       "      <td>0.022337</td>\n",
       "      <td>0.013363</td>\n",
       "      <td>0.088999</td>\n",
       "      <td>0.032732</td>\n",
       "      <td>0.002177</td>\n",
       "    </tr>\n",
       "  </tbody>\n",
       "</table>\n",
       "<p>4 rows × 21 columns</p>\n",
       "</div>"
      ],
      "text/plain": [
       "department_id                           1         2         3         4   \\\n",
       "family_status                                                              \n",
       "divorced/widowed                  0.069834  0.001083  0.036221  0.293238   \n",
       "living with parents and siblings  0.069992  0.001232  0.036206  0.289963   \n",
       "married                           0.068946  0.001108  0.036115  0.292396   \n",
       "single                            0.068267  0.001159  0.036426  0.293397   \n",
       "\n",
       "department_id                           5         6         7         8   \\\n",
       "family_status                                                              \n",
       "divorced/widowed                  0.004558  0.008319  0.083345  0.003034   \n",
       "living with parents and siblings  0.005738  0.008431  0.080373  0.003624   \n",
       "married                           0.004645  0.008281  0.083008  0.002967   \n",
       "single                            0.004977  0.008384  0.083256  0.003037   \n",
       "\n",
       "department_id                           9         10  ...        12        13  \\\n",
       "family_status                                         ...                       \n",
       "divorced/widowed                  0.026776  0.000998  ...  0.021818  0.057715   \n",
       "living with parents and siblings  0.026893  0.001080  ...  0.021914  0.058216   \n",
       "married                           0.026789  0.001082  ...  0.022009  0.057930   \n",
       "single                            0.026482  0.001035  ...  0.021331  0.057600   \n",
       "\n",
       "department_id                           14        15        16        17  \\\n",
       "family_status                                                              \n",
       "divorced/widowed                  0.021498  0.032201  0.166639  0.022297   \n",
       "living with parents and siblings  0.022422  0.033012  0.168180  0.022717   \n",
       "married                           0.021727  0.033045  0.166477  0.022967   \n",
       "single                            0.021648  0.032967  0.166628  0.022337   \n",
       "\n",
       "department_id                           18        19        20        21  \n",
       "family_status                                                             \n",
       "divorced/widowed                  0.012744  0.089034  0.032764  0.001982  \n",
       "living with parents and siblings  0.012992  0.088456  0.032512  0.002303  \n",
       "married                           0.013058  0.089183  0.032327  0.002131  \n",
       "single                            0.013363  0.088999  0.032732  0.002177  \n",
       "\n",
       "[4 rows x 21 columns]"
      ]
     },
     "execution_count": 108,
     "metadata": {},
     "output_type": "execute_result"
    }
   ],
   "source": [
    "family_stat_department_cross"
   ]
  },
  {
   "cell_type": "code",
   "execution_count": 220,
   "id": "94df9fec",
   "metadata": {},
   "outputs": [
    {
     "data": {
      "image/png": "[encoded data removed]",
      "text/plain": [
       "<Figure size 640x480 with 1 Axes>"
      ]
     },
     "metadata": {},
     "output_type": "display_data"
    }
   ],
   "source": [
    "family_stat_department_cross_bar = family_stat_department_cross.plot.bar(color = ['navy','green','teal','greenyellow'], ec= ['black'], stacked = True)"
   ]
  },
  {
   "cell_type": "code",
   "execution_count": null,
   "id": "1ed5fc08",
   "metadata": {},
   "outputs": [],
   "source": []
  },
  {
   "cell_type": "code",
   "execution_count": 109,
   "id": "1557533d",
   "metadata": {},
   "outputs": [],
   "source": [
    "family_stat_region_cross = pd.crosstab(df['family_status'], df['region'], normalize = 'columns')"
   ]
  },
  {
   "cell_type": "code",
   "execution_count": 144,
   "id": "f3e88a67",
   "metadata": {},
   "outputs": [
    {
     "data": {
      "image/png": "[encoded data removed]",
      "text/plain": [
       "<Figure size 640x480 with 1 Axes>"
      ]
     },
     "metadata": {},
     "output_type": "display_data"
    }
   ],
   "source": [
    "family_stat_region_bar = family_stat_region_cross.plot.bar(color = ['navy','blue','green','greenyellow'], ec= ['black'])"
   ]
  },
  {
   "cell_type": "code",
   "execution_count": 145,
   "id": "e4510a8d",
   "metadata": {},
   "outputs": [],
   "source": [
    "family_stat_region_bar.figure.savefig(os.path.join(path, '04 Analysis', 'Visualizations', 'family_stat_region_bar.png'))"
   ]
  },
  {
   "cell_type": "code",
   "execution_count": 224,
   "id": "e18dc89e",
   "metadata": {},
   "outputs": [],
   "source": [
    "family_stat_spending_cross = pd.crosstab(df['family_status'], df['spending_flag'], normalize = 'index')"
   ]
  },
  {
   "cell_type": "code",
   "execution_count": 227,
   "id": "da6ab1b4",
   "metadata": {},
   "outputs": [
    {
     "data": {
      "image/png": "[encoded data removed]",
      "text/plain": [
       "<Figure size 640x480 with 1 Axes>"
      ]
     },
     "metadata": {},
     "output_type": "display_data"
    }
   ],
   "source": [
    "family_stat_spending_bar = family_stat_spending_cross.plot.bar(color = ['navy','skyblue',], ec= ['black'])\n",
    "                                        "
   ]
  },
  {
   "cell_type": "code",
   "execution_count": 204,
   "id": "c2f7cbdd",
   "metadata": {},
   "outputs": [],
   "source": [
    "family_stat_department_bar.figure.savefig(os.path.join(path, '04 Analysis', 'Visualizations', 'family_stat_department_bar.png'))"
   ]
  },
  {
   "cell_type": "markdown",
   "id": "212f17d0",
   "metadata": {},
   "source": [
    "crossing children status with region and department"
   ]
  },
  {
   "cell_type": "code",
   "execution_count": 112,
   "id": "4ef7dac3",
   "metadata": {},
   "outputs": [],
   "source": [
    "children_department_cross = pd.crosstab(df['children'], df['department_id'], normalize = 'index')  "
   ]
  },
  {
   "cell_type": "code",
   "execution_count": 113,
   "id": "17a0d77d",
   "metadata": {},
   "outputs": [
    {
     "data": {
      "text/html": [
       "<div>\n",
       "<style scoped>\n",
       "    .dataframe tbody tr th:only-of-type {\n",
       "        vertical-align: middle;\n",
       "    }\n",
       "\n",
       "    .dataframe tbody tr th {\n",
       "        vertical-align: top;\n",
       "    }\n",
       "\n",
       "    .dataframe thead th {\n",
       "        text-align: right;\n",
       "    }\n",
       "</style>\n",
       "<table border=\"1\" class=\"dataframe\">\n",
       "  <thead>\n",
       "    <tr style=\"text-align: right;\">\n",
       "      <th>department_id</th>\n",
       "      <th>1</th>\n",
       "      <th>2</th>\n",
       "      <th>3</th>\n",
       "      <th>4</th>\n",
       "      <th>5</th>\n",
       "      <th>6</th>\n",
       "      <th>7</th>\n",
       "      <th>8</th>\n",
       "      <th>9</th>\n",
       "      <th>10</th>\n",
       "      <th>...</th>\n",
       "      <th>12</th>\n",
       "      <th>13</th>\n",
       "      <th>14</th>\n",
       "      <th>15</th>\n",
       "      <th>16</th>\n",
       "      <th>17</th>\n",
       "      <th>18</th>\n",
       "      <th>19</th>\n",
       "      <th>20</th>\n",
       "      <th>21</th>\n",
       "    </tr>\n",
       "    <tr>\n",
       "      <th>children</th>\n",
       "      <th></th>\n",
       "      <th></th>\n",
       "      <th></th>\n",
       "      <th></th>\n",
       "      <th></th>\n",
       "      <th></th>\n",
       "      <th></th>\n",
       "      <th></th>\n",
       "      <th></th>\n",
       "      <th></th>\n",
       "      <th></th>\n",
       "      <th></th>\n",
       "      <th></th>\n",
       "      <th></th>\n",
       "      <th></th>\n",
       "      <th></th>\n",
       "      <th></th>\n",
       "      <th></th>\n",
       "      <th></th>\n",
       "      <th></th>\n",
       "      <th></th>\n",
       "    </tr>\n",
       "  </thead>\n",
       "  <tbody>\n",
       "    <tr>\n",
       "      <th>no childern</th>\n",
       "      <td>0.068803</td>\n",
       "      <td>0.001133</td>\n",
       "      <td>0.036356</td>\n",
       "      <td>0.293342</td>\n",
       "      <td>0.004834</td>\n",
       "      <td>0.008362</td>\n",
       "      <td>0.083286</td>\n",
       "      <td>0.003036</td>\n",
       "      <td>0.026583</td>\n",
       "      <td>0.001022</td>\n",
       "      <td>...</td>\n",
       "      <td>0.021498</td>\n",
       "      <td>0.057640</td>\n",
       "      <td>0.021597</td>\n",
       "      <td>0.032705</td>\n",
       "      <td>0.166632</td>\n",
       "      <td>0.022324</td>\n",
       "      <td>0.013151</td>\n",
       "      <td>0.089011</td>\n",
       "      <td>0.032743</td>\n",
       "      <td>0.002110</td>\n",
       "    </tr>\n",
       "    <tr>\n",
       "      <th>with childern</th>\n",
       "      <td>0.069013</td>\n",
       "      <td>0.001116</td>\n",
       "      <td>0.036120</td>\n",
       "      <td>0.292241</td>\n",
       "      <td>0.004714</td>\n",
       "      <td>0.008291</td>\n",
       "      <td>0.082840</td>\n",
       "      <td>0.003009</td>\n",
       "      <td>0.026796</td>\n",
       "      <td>0.001082</td>\n",
       "      <td>...</td>\n",
       "      <td>0.022003</td>\n",
       "      <td>0.057948</td>\n",
       "      <td>0.021771</td>\n",
       "      <td>0.033043</td>\n",
       "      <td>0.166585</td>\n",
       "      <td>0.022951</td>\n",
       "      <td>0.013054</td>\n",
       "      <td>0.089137</td>\n",
       "      <td>0.032339</td>\n",
       "      <td>0.002142</td>\n",
       "    </tr>\n",
       "  </tbody>\n",
       "</table>\n",
       "<p>2 rows × 21 columns</p>\n",
       "</div>"
      ],
      "text/plain": [
       "department_id        1         2         3         4         5         6   \\\n",
       "children                                                                    \n",
       "no childern    0.068803  0.001133  0.036356  0.293342  0.004834  0.008362   \n",
       "with childern  0.069013  0.001116  0.036120  0.292241  0.004714  0.008291   \n",
       "\n",
       "department_id        7         8         9         10  ...        12  \\\n",
       "children                                               ...             \n",
       "no childern    0.083286  0.003036  0.026583  0.001022  ...  0.021498   \n",
       "with childern  0.082840  0.003009  0.026796  0.001082  ...  0.022003   \n",
       "\n",
       "department_id        13        14        15        16        17        18  \\\n",
       "children                                                                    \n",
       "no childern    0.057640  0.021597  0.032705  0.166632  0.022324  0.013151   \n",
       "with childern  0.057948  0.021771  0.033043  0.166585  0.022951  0.013054   \n",
       "\n",
       "department_id        19        20        21  \n",
       "children                                     \n",
       "no childern    0.089011  0.032743  0.002110  \n",
       "with childern  0.089137  0.032339  0.002142  \n",
       "\n",
       "[2 rows x 21 columns]"
      ]
     },
     "execution_count": 113,
     "metadata": {},
     "output_type": "execute_result"
    }
   ],
   "source": [
    "children_department_cross"
   ]
  },
  {
   "cell_type": "code",
   "execution_count": 114,
   "id": "8dfdc2ed",
   "metadata": {},
   "outputs": [],
   "source": [
    "children_stat_region_cross = pd.crosstab(df['children'], df['region'], normalize = 'columns')"
   ]
  },
  {
   "cell_type": "code",
   "execution_count": 146,
   "id": "cb946596",
   "metadata": {},
   "outputs": [
    {
     "data": {
      "image/png": "[encoded data removed]",
      "text/plain": [
       "<Figure size 640x480 with 1 Axes>"
      ]
     },
     "metadata": {},
     "output_type": "display_data"
    }
   ],
   "source": [
    "children_stat_region_bar = children_stat_region_cross.plot.bar(color = ['navy','blue','green','greenyellow'], ec= ['black'])"
   ]
  },
  {
   "cell_type": "code",
   "execution_count": 147,
   "id": "a93080c9",
   "metadata": {},
   "outputs": [],
   "source": [
    "children_stat_region_bar.figure.savefig(os.path.join(path, '04 Analysis', 'Visualizations', 'children_stat_region_bar.png'))"
   ]
  },
  {
   "cell_type": "markdown",
   "id": "1999c9db",
   "metadata": {},
   "source": [
    "crossing baby status with region and department"
   ]
  },
  {
   "cell_type": "code",
   "execution_count": 117,
   "id": "f3472b7f",
   "metadata": {},
   "outputs": [],
   "source": [
    "baby_parent_department_cross = pd.crosstab(df['baby_parents'], df['department_id'], normalize = 'index')  "
   ]
  },
  {
   "cell_type": "code",
   "execution_count": 118,
   "id": "acdae04c",
   "metadata": {},
   "outputs": [
    {
     "data": {
      "text/html": [
       "<div>\n",
       "<style scoped>\n",
       "    .dataframe tbody tr th:only-of-type {\n",
       "        vertical-align: middle;\n",
       "    }\n",
       "\n",
       "    .dataframe tbody tr th {\n",
       "        vertical-align: top;\n",
       "    }\n",
       "\n",
       "    .dataframe thead th {\n",
       "        text-align: right;\n",
       "    }\n",
       "</style>\n",
       "<table border=\"1\" class=\"dataframe\">\n",
       "  <thead>\n",
       "    <tr style=\"text-align: right;\">\n",
       "      <th>department_id</th>\n",
       "      <th>1</th>\n",
       "      <th>2</th>\n",
       "      <th>3</th>\n",
       "      <th>4</th>\n",
       "      <th>5</th>\n",
       "      <th>6</th>\n",
       "      <th>7</th>\n",
       "      <th>8</th>\n",
       "      <th>9</th>\n",
       "      <th>10</th>\n",
       "      <th>...</th>\n",
       "      <th>12</th>\n",
       "      <th>13</th>\n",
       "      <th>14</th>\n",
       "      <th>15</th>\n",
       "      <th>16</th>\n",
       "      <th>17</th>\n",
       "      <th>18</th>\n",
       "      <th>19</th>\n",
       "      <th>20</th>\n",
       "      <th>21</th>\n",
       "    </tr>\n",
       "    <tr>\n",
       "      <th>baby_parents</th>\n",
       "      <th></th>\n",
       "      <th></th>\n",
       "      <th></th>\n",
       "      <th></th>\n",
       "      <th></th>\n",
       "      <th></th>\n",
       "      <th></th>\n",
       "      <th></th>\n",
       "      <th></th>\n",
       "      <th></th>\n",
       "      <th></th>\n",
       "      <th></th>\n",
       "      <th></th>\n",
       "      <th></th>\n",
       "      <th></th>\n",
       "      <th></th>\n",
       "      <th></th>\n",
       "      <th></th>\n",
       "      <th></th>\n",
       "      <th></th>\n",
       "      <th></th>\n",
       "    </tr>\n",
       "  </thead>\n",
       "  <tbody>\n",
       "    <tr>\n",
       "      <th>baby-parent</th>\n",
       "      <td>0.069224</td>\n",
       "      <td>0.001107</td>\n",
       "      <td>0.036431</td>\n",
       "      <td>0.288912</td>\n",
       "      <td>0.004394</td>\n",
       "      <td>0.008341</td>\n",
       "      <td>0.082368</td>\n",
       "      <td>0.003000</td>\n",
       "      <td>0.026873</td>\n",
       "      <td>0.001073</td>\n",
       "      <td>...</td>\n",
       "      <td>0.021714</td>\n",
       "      <td>0.057864</td>\n",
       "      <td>0.022004</td>\n",
       "      <td>0.032958</td>\n",
       "      <td>0.166281</td>\n",
       "      <td>0.022367</td>\n",
       "      <td>0.013313</td>\n",
       "      <td>0.093178</td>\n",
       "      <td>0.032765</td>\n",
       "      <td>0.002133</td>\n",
       "    </tr>\n",
       "    <tr>\n",
       "      <th>non-baby-parent</th>\n",
       "      <td>0.063191</td>\n",
       "      <td>0.001410</td>\n",
       "      <td>0.030674</td>\n",
       "      <td>0.371361</td>\n",
       "      <td>0.012412</td>\n",
       "      <td>0.007596</td>\n",
       "      <td>0.095719</td>\n",
       "      <td>0.003357</td>\n",
       "      <td>0.023900</td>\n",
       "      <td>0.000928</td>\n",
       "      <td>...</td>\n",
       "      <td>0.025440</td>\n",
       "      <td>0.058022</td>\n",
       "      <td>0.015693</td>\n",
       "      <td>0.032967</td>\n",
       "      <td>0.173500</td>\n",
       "      <td>0.032135</td>\n",
       "      <td>0.007924</td>\n",
       "      <td>0.000000</td>\n",
       "      <td>0.025334</td>\n",
       "      <td>0.002141</td>\n",
       "    </tr>\n",
       "  </tbody>\n",
       "</table>\n",
       "<p>2 rows × 21 columns</p>\n",
       "</div>"
      ],
      "text/plain": [
       "department_id          1         2         3         4         5         6   \\\n",
       "baby_parents                                                                  \n",
       "baby-parent      0.069224  0.001107  0.036431  0.288912  0.004394  0.008341   \n",
       "non-baby-parent  0.063191  0.001410  0.030674  0.371361  0.012412  0.007596   \n",
       "\n",
       "department_id          7         8         9         10  ...        12  \\\n",
       "baby_parents                                             ...             \n",
       "baby-parent      0.082368  0.003000  0.026873  0.001073  ...  0.021714   \n",
       "non-baby-parent  0.095719  0.003357  0.023900  0.000928  ...  0.025440   \n",
       "\n",
       "department_id          13        14        15        16        17        18  \\\n",
       "baby_parents                                                                  \n",
       "baby-parent      0.057864  0.022004  0.032958  0.166281  0.022367  0.013313   \n",
       "non-baby-parent  0.058022  0.015693  0.032967  0.173500  0.032135  0.007924   \n",
       "\n",
       "department_id          19        20        21  \n",
       "baby_parents                                   \n",
       "baby-parent      0.093178  0.032765  0.002133  \n",
       "non-baby-parent  0.000000  0.025334  0.002141  \n",
       "\n",
       "[2 rows x 21 columns]"
      ]
     },
     "execution_count": 118,
     "metadata": {},
     "output_type": "execute_result"
    }
   ],
   "source": [
    "baby_parent_department_cross"
   ]
  },
  {
   "cell_type": "code",
   "execution_count": 119,
   "id": "838601bc",
   "metadata": {},
   "outputs": [],
   "source": [
    "baby_parent_region_cross = pd.crosstab(df['baby_parents'], df['region'], normalize = 'columns')"
   ]
  },
  {
   "cell_type": "code",
   "execution_count": 148,
   "id": "372823d2",
   "metadata": {
    "scrolled": true
   },
   "outputs": [
    {
     "data": {
      "image/png": "[encoded data removed]",
      "text/plain": [
       "<Figure size 640x480 with 1 Axes>"
      ]
     },
     "metadata": {},
     "output_type": "display_data"
    }
   ],
   "source": [
    "baby_parent_region_bar = baby_parent_region_cross.plot.bar(color = ['navy','blue','green','greenyellow'], ec= ['black'])"
   ]
  },
  {
   "cell_type": "code",
   "execution_count": 149,
   "id": "2b554a26",
   "metadata": {},
   "outputs": [],
   "source": [
    "baby_parent_region_bar.figure.savefig(os.path.join(path, '04 Analysis', 'Visualizations', 'baby_parent_region_bar.png'))"
   ]
  },
  {
   "cell_type": "code",
   "execution_count": 186,
   "id": "a0f437c8",
   "metadata": {},
   "outputs": [],
   "source": [
    "spending_children_crosstab = pd.crosstab(df['children'], df['spending_flag'], dropna = False)"
   ]
  },
  {
   "cell_type": "code",
   "execution_count": 188,
   "id": "051ad8ae",
   "metadata": {},
   "outputs": [
    {
     "data": {
      "image/png": "[encoded data removed]",
      "text/plain": [
       "<Figure size 640x480 with 1 Axes>"
      ]
     },
     "metadata": {},
     "output_type": "display_data"
    }
   ],
   "source": [
    "spending_children_bar = spending_children_crosstab.plot.bar(color = ['lime','turquoise','skyblue'], ec= ['black'],stacked = True)"
   ]
  },
  {
   "cell_type": "code",
   "execution_count": 189,
   "id": "49911135",
   "metadata": {},
   "outputs": [],
   "source": [
    "spending_children_bar.figure.savefig(os.path.join(path, '04 Analysis', 'Visualizations', 'spending_children_bar.png'))"
   ]
  },
  {
   "cell_type": "code",
   "execution_count": 206,
   "id": "bc003652",
   "metadata": {},
   "outputs": [],
   "source": [
    "income_department_cross = pd.crosstab(df['department_id'], df['income_profile'], normalize = 'index')"
   ]
  },
  {
   "cell_type": "code",
   "execution_count": 207,
   "id": "643592d7",
   "metadata": {},
   "outputs": [
    {
     "data": {
      "image/png": "[encoded data removed]",
      "text/plain": [
       "<Figure size 640x480 with 1 Axes>"
      ]
     },
     "metadata": {},
     "output_type": "display_data"
    }
   ],
   "source": [
    "income_department_bar = income_department_cross.plot.bar(color = ['lime','turquoise','skyblue'], ec= ['black'],stacked = True)"
   ]
  },
  {
   "cell_type": "code",
   "execution_count": 156,
   "id": "547cbaee",
   "metadata": {},
   "outputs": [],
   "source": [
    "income_department_bar.figure.savefig(os.path.join(path, '04 Analysis', 'Visualizations', 'income_department_bar.png'))"
   ]
  },
  {
   "cell_type": "code",
   "execution_count": 125,
   "id": "28bcce19",
   "metadata": {},
   "outputs": [
    {
     "data": {
      "text/plain": [
       "(32406041, 37)"
      ]
     },
     "execution_count": 125,
     "metadata": {},
     "output_type": "execute_result"
    }
   ],
   "source": [
    "df.shape"
   ]
  },
  {
   "cell_type": "code",
   "execution_count": 228,
   "id": "e160b08f",
   "metadata": {},
   "outputs": [],
   "source": [
    "df.to_pickle(os.path.join(path, '02 Data', 'Prepared Data','cust_ord_prod_final.pkl'))"
   ]
  },
  {
   "cell_type": "code",
   "execution_count": null,
   "id": "71773a58",
   "metadata": {},
   "outputs": [],
   "source": []
  }
 ],
 "metadata": {
  "kernelspec": {
   "display_name": "Python 3 (ipykernel)",
   "language": "python",
   "name": "python3"
  },
  "language_info": {
   "codemirror_mode": {
    "name": "ipython",
    "version": 3
   },
   "file_extension": ".py",
   "mimetype": "text/x-python",
   "name": "python",
   "nbconvert_exporter": "python",
   "pygments_lexer": "ipython3",
   "version": "3.10.9"
  }
 },
 "nbformat": 4,
 "nbformat_minor": 5
}
